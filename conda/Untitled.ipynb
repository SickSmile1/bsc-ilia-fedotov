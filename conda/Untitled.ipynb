{
 "cells": [
  {
   "cell_type": "code",
   "execution_count": 1,
   "id": "16dc611c-8698-42cb-8d9f-50e177eed046",
   "metadata": {},
   "outputs": [
    {
     "name": "stdout",
     "output_type": "stream",
     "text": [
      "The history saving thread hit an unexpected error (OperationalError('attempt to write a readonly database')).History will not be written to the database.\n"
     ]
    }
   ],
   "source": [
    "from dtoolcore import DataSet, ProtoDataSet, DataSetCreator\n",
    "\n",
    "def store_xy_arrays(x, y, dataset_name, output_path):\n",
    "    # DataSetCreator(name, base_uri, readme_content='', \n",
    "    #\t\t\t\tcreator_username=None)\n",
    "    with DataSetCreator(dataset_name, output_path, \"TEST CONTENT\") as ds_creator:\n",
    "        animal_ds_uri = ds_creator.uri\n",
    "        for animal in [\"cat\", \"dog\", \"parrot\"]:\n",
    "            handle = animal + \".txt\"  # Unix-like relpath\n",
    "            fpath = ds_creator.prepare_staging_abspath_promise(handle)\n",
    "            with open(fpath, \"w\") as fh:\n",
    "                fh.write(animal)\n",
    "    "
   ]
  },
  {
   "cell_type": "code",
   "execution_count": 4,
   "id": "09a98257-f397-4030-8158-6307e146690a",
   "metadata": {},
   "outputs": [
    {
     "name": "stdout",
     "output_type": "stream",
     "text": [
      "Object `dtool.prepare_staging_abspath_promise` not found.\n"
     ]
    }
   ],
   "source": [
    "dtool.prepare_staging_abspath_promise?"
   ]
  },
  {
   "cell_type": "code",
   "execution_count": null,
   "id": "0ed5a521-bad2-439e-b1fb-f3d6a9389770",
   "metadata": {},
   "outputs": [],
   "source": []
  }
 ],
 "metadata": {
  "kernelspec": {
   "display_name": "dolfinenv",
   "language": "python",
   "name": "dolfinenv"
  },
  "language_info": {
   "codemirror_mode": {
    "name": "ipython",
    "version": 3
   },
   "file_extension": ".py",
   "mimetype": "text/x-python",
   "name": "python",
   "nbconvert_exporter": "python",
   "pygments_lexer": "ipython3",
   "version": "3.12.7"
  },
  "widgets": {
   "application/vnd.jupyter.widget-state+json": {
    "state": {},
    "version_major": 2,
    "version_minor": 0
   }
  }
 },
 "nbformat": 4,
 "nbformat_minor": 5
}
