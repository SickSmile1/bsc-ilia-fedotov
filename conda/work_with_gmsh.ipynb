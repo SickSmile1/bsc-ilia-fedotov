{
 "cells": [
  {
   "cell_type": "code",
   "execution_count": 41,
   "id": "ba154d80-705f-48d0-8caa-d2bb31d2f5c2",
   "metadata": {},
   "outputs": [
    {
     "name": "stderr",
     "output_type": "stream",
     "text": [
      "Warning : Gmsh has aleady been initialized\n",
      "Warning : Unknown entity of dimension 1 and tag 10 in physical group 1\n",
      "Warning : Unknown entity of dimension 1 and tag 9 in physical group 2\n",
      "Warning : Unknown entity of dimension 1 and tag 12 in physical group 3\n",
      "Warning : Unknown entity of dimension 1 and tag 8 in physical group 4\n"
     ]
    },
    {
     "name": "stdout",
     "output_type": "stream",
     "text": [
      "Info    : Meshing 1D...\n",
      "Info    : Done meshing 1D (Wall 6.79e-06s, CPU 1.1e-05s)\n",
      "Info    : Meshing 2D...\n",
      "Info    : Done meshing 2D (Wall 5.29e-06s, CPU 4e-06s)\n",
      "Info    : 0 nodes 0 elements\n",
      "Info    : Writing 't4.msh'...\n",
      "Info    : Done writing 't4.msh'\n",
      "-------------------------------------------------------\n",
      "Version       : 4.13.1\n",
      "License       : GNU General Public License\n",
      "Build OS      : Linux64-sdk\n",
      "Build date    : 20240524\n",
      "Build host    : gmsh.info\n",
      "Build options : 64Bit ALGLIB[contrib] ANN[contrib] Bamg Blas[petsc] Blossom Cgns DIntegration Dlopen DomHex Eigen[contrib] Fltk Gmm[contrib] Hxt Jpeg Kbipack Lapack[petsc] LinuxJoystick MathEx[contrib] Med Mesh Metis[contrib] Mmg Mpeg Netgen Nii2mesh ONELAB ONELABMetamodel OpenCASCADE OpenCASCADE-CAF OpenGL OpenMP OptHom PETSc Parser Plugins Png Post QuadMeshingTools QuadTri Solver TetGen/BR TinyXML2[contrib] Untangle Voro++[contrib] WinslowUntangler Zlib\n",
      "FLTK version  : 1.4.0\n",
      "PETSc version : 3.14.4 (real arithmtic)\n",
      "OCC version   : 7.7.2\n",
      "MED version   : 4.1.0\n",
      "Packaged by   : geuzaine\n",
      "Web site      : https://gmsh.info\n",
      "Issue tracker : https://gitlab.onelab.info/gmsh/gmsh/issues\n",
      "-------------------------------------------------------\n"
     ]
    }
   ],
   "source": [
    "# ------------------------------------------------------------------------------\n",
    "#\n",
    "#  Gmsh Python tutorial 4\n",
    "#\n",
    "#  Holes in surfaces, annotations, entity colors\n",
    "#\n",
    "# ------------------------------------------------------------------------------\n",
    "\n",
    "import gmsh\n",
    "import math\n",
    "import sys\n",
    "import os\n",
    "\n",
    "#def create_mesh_with_obst(h, l, r, lc)\n",
    "gmsh.initialize()\n",
    "\n",
    "gmsh.model.add(\"t4\")\n",
    "\n",
    "cm = 1 # e-02 # not needed for our sim\n",
    "h1 = 1 * cm\n",
    "l1 = 4 * cm\n",
    "r = .0 * cm\n",
    "Lc1 = 0.07\n",
    "\n",
    "# We start by defining some points and some lines. To make the code shorter we\n",
    "# can redefine a namespace:\n",
    "factory = gmsh.model.geo\n",
    "model = gmsh.model\n",
    "\n",
    "factory.addPoint(0, 0, 0, Lc1, 1)\n",
    "factory.addPoint(l1, 0, 0, Lc1, 2)\n",
    "factory.addPoint(l1, h1 , 0, Lc1, 3)\n",
    "factory.addPoint(0, h1, 0, Lc1, 4)\n",
    "\n",
    "if r > 0:\n",
    "    factory.addPoint(l1/2-r, h1, 0, Lc1, 5)\n",
    "    factory.addPoint(l1/2, h1, 0, Lc1, 6)\n",
    "    factory.addPoint(l1/2+r, h1, 0, Lc1, 7)\n",
    "\n",
    "    factory.addCircleArc(5, 6, 7, 13)\n",
    "\n",
    "    factory.addLine(3, 7, 10)\n",
    "    factory.addLine(5, 4, 11)\n",
    "\n",
    "    # Define the inner curve loop (the circle arc)\n",
    "    factory.addCurveLoop([-13], 14)\n",
    "\n",
    "factory.addLine(1, 2, 8)\n",
    "factory.addLine(2, 3, 9)\n",
    "factory.addLine(3, 4, 10)\n",
    "factory.addLine(4, 1, 12)\n",
    "\n",
    "\n",
    "# Define the outer curve loop\n",
    "if r>0:\n",
    "    factory.addCurveLoop([8, 9, 10, -13, 11, 12], 15)\n",
    "\n",
    "    # Create the plane surface with a hole\n",
    "    factory.addPlaneSurface([15], 16)\n",
    "    factory.synchronize()\n",
    "    upper = model.addPhysicalGroup(1, [10, -13, 11])\n",
    "else:\n",
    "    factory.addCurveLoop([8,9,10,12], 15)\n",
    "    factory.addPlaneSurface([15], 16)\n",
    "\n",
    "    upper = model.addPhysicalGroup(1, [10])\n",
    "\n",
    "\n",
    "model.setPhysicalName(1, upper, \"upper_wall\")\n",
    "outfl = model.addPhysicalGroup(1, [9])\n",
    "model.setPhysicalName(1, outfl, \"outflow\")\n",
    "infl = model.addPhysicalGroup(1, [12])\n",
    "model.setPhysicalName(1, infl, \"inflow\")\n",
    "lower = model.addPhysicalGroup(1, [8])\n",
    "model.setPhysicalName(1, lower, \"lower_wall\")\n",
    "\n",
    "gmsh.model.mesh.generate(2)\n",
    "\n",
    "#indices, points, _ =  model.mesh.getNodes()\n",
    "#print(\"\\n\\n\\nindices: \",indices, \"\\n\\n\\n\", \"points: \",points.reshape(-1,3), \"\\n\\n\\n\")\n",
    "\n",
    "gmsh.write(\"t4.msh\")\n",
    "\n",
    "# Launch the GUI to see the results:\n",
    "if '-nopopup' not in sys.argv:\n",
    "    gmsh.fltk.run()\n",
    "\n",
    "gmsh.finalize()\n",
    "#mesh, ct, ft = gmshio.model_to_mesh(gmsh.model, comm, model_rank,gdim=2)\n",
    "#return mesh, ct, ft, inlet_marker, outlet_marker, upper_wall_marker, lower_wall_marker, obstacle_marker\n"
   ]
  },
  {
   "cell_type": "code",
   "execution_count": 13,
   "id": "af0f9a7d-3f17-46b7-b3f2-50c15e7dd6c3",
   "metadata": {},
   "outputs": [
    {
     "name": "stderr",
     "output_type": "stream",
     "text": [
      "Error   : Gmsh has not been initialized\n",
      "Error   : Gmsh has not been initialized\n"
     ]
    },
    {
     "ename": "Exception",
     "evalue": "Could not get last error",
     "output_type": "error",
     "traceback": [
      "\u001b[0;31m---------------------------------------------------------------------------\u001b[0m",
      "\u001b[0;31mException\u001b[0m                                 Traceback (most recent call last)",
      "\u001b[0;32m/tmp/ipykernel_18570/487581746.py\u001b[0m in \u001b[0;36m?\u001b[0;34m()\u001b[0m\n\u001b[0;32m----> 1\u001b[0;31m \u001b[0mone\u001b[0m\u001b[0;34m,\u001b[0m \u001b[0mtwo\u001b[0m\u001b[0;34m,\u001b[0m \u001b[0mthree\u001b[0m \u001b[0;34m=\u001b[0m \u001b[0mgmsh\u001b[0m\u001b[0;34m.\u001b[0m\u001b[0mmodel\u001b[0m\u001b[0;34m.\u001b[0m\u001b[0mmesh\u001b[0m\u001b[0;34m.\u001b[0m\u001b[0mgetNodes\u001b[0m\u001b[0;34m(\u001b[0m\u001b[0;36m3\u001b[0m\u001b[0;34m,\u001b[0m \u001b[0;36m8\u001b[0m\u001b[0;34m)\u001b[0m\u001b[0;34m\u001b[0m\u001b[0;34m\u001b[0m\u001b[0m\n\u001b[0m",
      "\u001b[0;32m~/miniconda3/envs/fenicsx-env/lib/python3.13/site-packages/gmsh.py\u001b[0m in \u001b[0;36m?\u001b[0;34m(dim, tag, includeBoundary, returnParametricCoord)\u001b[0m\n\u001b[1;32m   2377\u001b[0m                 \u001b[0mc_int\u001b[0m\u001b[0;34m(\u001b[0m\u001b[0mbool\u001b[0m\u001b[0;34m(\u001b[0m\u001b[0mincludeBoundary\u001b[0m\u001b[0;34m)\u001b[0m\u001b[0;34m)\u001b[0m\u001b[0;34m,\u001b[0m\u001b[0;34m\u001b[0m\u001b[0;34m\u001b[0m\u001b[0m\n\u001b[1;32m   2378\u001b[0m                 \u001b[0mc_int\u001b[0m\u001b[0;34m(\u001b[0m\u001b[0mbool\u001b[0m\u001b[0;34m(\u001b[0m\u001b[0mreturnParametricCoord\u001b[0m\u001b[0;34m)\u001b[0m\u001b[0;34m)\u001b[0m\u001b[0;34m,\u001b[0m\u001b[0;34m\u001b[0m\u001b[0;34m\u001b[0m\u001b[0m\n\u001b[1;32m   2379\u001b[0m                 \u001b[0mbyref\u001b[0m\u001b[0;34m(\u001b[0m\u001b[0mierr\u001b[0m\u001b[0;34m)\u001b[0m\u001b[0;34m)\u001b[0m\u001b[0;34m\u001b[0m\u001b[0;34m\u001b[0m\u001b[0m\n\u001b[1;32m   2380\u001b[0m             \u001b[0;32mif\u001b[0m \u001b[0mierr\u001b[0m\u001b[0;34m.\u001b[0m\u001b[0mvalue\u001b[0m \u001b[0;34m!=\u001b[0m \u001b[0;36m0\u001b[0m\u001b[0;34m:\u001b[0m\u001b[0;34m\u001b[0m\u001b[0;34m\u001b[0m\u001b[0m\n\u001b[0;32m-> 2381\u001b[0;31m                 \u001b[0;32mraise\u001b[0m \u001b[0mException\u001b[0m\u001b[0;34m(\u001b[0m\u001b[0mlogger\u001b[0m\u001b[0;34m.\u001b[0m\u001b[0mgetLastError\u001b[0m\u001b[0;34m(\u001b[0m\u001b[0;34m)\u001b[0m\u001b[0;34m)\u001b[0m\u001b[0;34m\u001b[0m\u001b[0;34m\u001b[0m\u001b[0m\n\u001b[0m\u001b[1;32m   2382\u001b[0m             return (\n\u001b[1;32m   2383\u001b[0m                 \u001b[0m_ovectorsize\u001b[0m\u001b[0;34m(\u001b[0m\u001b[0mapi_nodeTags_\u001b[0m\u001b[0;34m,\u001b[0m \u001b[0mapi_nodeTags_n_\u001b[0m\u001b[0;34m.\u001b[0m\u001b[0mvalue\u001b[0m\u001b[0;34m)\u001b[0m\u001b[0;34m,\u001b[0m\u001b[0;34m\u001b[0m\u001b[0;34m\u001b[0m\u001b[0m\n\u001b[1;32m   2384\u001b[0m                 \u001b[0m_ovectordouble\u001b[0m\u001b[0;34m(\u001b[0m\u001b[0mapi_coord_\u001b[0m\u001b[0;34m,\u001b[0m \u001b[0mapi_coord_n_\u001b[0m\u001b[0;34m.\u001b[0m\u001b[0mvalue\u001b[0m\u001b[0;34m)\u001b[0m\u001b[0;34m,\u001b[0m\u001b[0;34m\u001b[0m\u001b[0;34m\u001b[0m\u001b[0m\n",
      "\u001b[0;32m~/miniconda3/envs/fenicsx-env/lib/python3.13/site-packages/gmsh.py\u001b[0m in \u001b[0;36m?\u001b[0;34m()\u001b[0m\n\u001b[1;32m  11039\u001b[0m         lib.gmshLoggerGetLastError(\n\u001b[1;32m  11040\u001b[0m             \u001b[0mbyref\u001b[0m\u001b[0;34m(\u001b[0m\u001b[0mapi_error_\u001b[0m\u001b[0;34m)\u001b[0m\u001b[0;34m,\u001b[0m\u001b[0;34m\u001b[0m\u001b[0;34m\u001b[0m\u001b[0m\n\u001b[1;32m  11041\u001b[0m             \u001b[0mbyref\u001b[0m\u001b[0;34m(\u001b[0m\u001b[0mierr\u001b[0m\u001b[0;34m)\u001b[0m\u001b[0;34m)\u001b[0m\u001b[0;34m\u001b[0m\u001b[0;34m\u001b[0m\u001b[0m\n\u001b[1;32m  11042\u001b[0m         \u001b[0;32mif\u001b[0m \u001b[0mierr\u001b[0m\u001b[0;34m.\u001b[0m\u001b[0mvalue\u001b[0m \u001b[0;34m!=\u001b[0m \u001b[0;36m0\u001b[0m\u001b[0;34m:\u001b[0m\u001b[0;34m\u001b[0m\u001b[0;34m\u001b[0m\u001b[0m\n\u001b[0;32m> 11043\u001b[0;31m             \u001b[0;32mraise\u001b[0m \u001b[0mException\u001b[0m\u001b[0;34m(\u001b[0m\u001b[0;34m'Could not get last error'\u001b[0m\u001b[0;34m)\u001b[0m\u001b[0;34m\u001b[0m\u001b[0;34m\u001b[0m\u001b[0m\n\u001b[0m\u001b[1;32m  11044\u001b[0m         \u001b[0;32mreturn\u001b[0m \u001b[0m_ostring\u001b[0m\u001b[0;34m(\u001b[0m\u001b[0mapi_error_\u001b[0m\u001b[0;34m)\u001b[0m\u001b[0;34m\u001b[0m\u001b[0;34m\u001b[0m\u001b[0m\n",
      "\u001b[0;31mException\u001b[0m: Could not get last error"
     ]
    }
   ],
   "source": [
    "one, two, three = gmsh.model.mesh.getNodes(3, 8)"
   ]
  },
  {
   "cell_type": "code",
   "execution_count": null,
   "id": "c293922d-853b-4f19-a3a2-1c5bebd0613c",
   "metadata": {},
   "outputs": [],
   "source": []
  }
 ],
 "metadata": {
  "kernelspec": {
   "display_name": "Python (fenicsx-env)",
   "language": "python",
   "name": "fenicsx-env"
  },
  "language_info": {
   "codemirror_mode": {
    "name": "ipython",
    "version": 3
   },
   "file_extension": ".py",
   "mimetype": "text/x-python",
   "name": "python",
   "nbconvert_exporter": "python",
   "pygments_lexer": "ipython3",
   "version": "3.13.0"
  }
 },
 "nbformat": 4,
 "nbformat_minor": 5
}
