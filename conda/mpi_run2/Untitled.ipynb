{
 "cells": [
  {
   "cell_type": "code",
   "execution_count": 1,
   "id": "192bea44-a3c9-49d8-85f6-f75a02ab7563",
   "metadata": {},
   "outputs": [
    {
     "name": "stdout",
     "output_type": "stream",
     "text": [
      "total 1248\n",
      "drwxr-xr-x. 1 ilia      70 Nov 28 11:07 \u001b[0m\u001b[01;34mdtool_db\u001b[0m/\n",
      "-rw-r--r--. 1 ilia   11330 Nov 27 15:11 dx_sim.py\n",
      "-rw-r--r--. 1 ilia   15947 Nov 27 15:11 dx_utils.py\n",
      "-rw-r--r--. 1 ilia  169408 Nov 26 17:37 my_mesh.msh\n",
      "-rw-r--r--. 1 ilia 1063042 Nov 28 11:07 plot_compare.ipynb\n",
      "drwxr-xr-x. 1 ilia      92 Nov 28 10:22 \u001b[01;34m__pycache__\u001b[0m/\n",
      "-rw-r--r--. 1 ilia    4573 Nov 27 15:12 sim_mpi.py\n",
      "-rw-r--r--. 1 ilia      72 Nov 28 11:17 Untitled.ipynb\n"
     ]
    }
   ],
   "source": []
  },
  {
   "cell_type": "code",
   "execution_count": null,
   "id": "c233f565-b81c-4f2b-a37c-0285ba26788e",
   "metadata": {},
   "outputs": [],
   "source": []
  }
 ],
 "metadata": {
  "kernelspec": {
   "display_name": "Python 3 (ipykernel)",
   "language": "python",
   "name": "python3"
  },
  "language_info": {
   "codemirror_mode": {
    "name": "ipython",
    "version": 3
   },
   "file_extension": ".py",
   "mimetype": "text/x-python",
   "name": "python",
   "nbconvert_exporter": "python",
   "pygments_lexer": "ipython3",
   "version": "3.13.0"
  }
 },
 "nbformat": 4,
 "nbformat_minor": 5
}
