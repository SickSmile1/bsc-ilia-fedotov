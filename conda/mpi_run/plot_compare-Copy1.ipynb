{
 "cells": [
  {
   "cell_type": "code",
   "execution_count": 1,
   "id": "d5ee80ed-c6f0-430a-84ea-2ae0727ebe12",
   "metadata": {},
   "outputs": [],
   "source": [
    "import dtoolcore\n",
    "import dtoolcore.utils as utils\n",
    "import time\n",
    "import numpy as np\n",
    "import json\n",
    "import matplotlib.pyplot as plt\n",
    "import os\n",
    "import re"
   ]
  },
  {
   "cell_type": "code",
   "execution_count": 3,
   "id": "1d9dd378-1e3c-4067-90df-ae95ae4065c0",
   "metadata": {},
   "outputs": [],
   "source": [
    "rootdir = os.getcwd()\n",
    "\n",
    "# pat = r'canal_\\d+\\.\\d+_\\d+'\n",
    "pat = r'\\d+\\.\\d+'\n",
    "path = rootdir+\"/dtool_db/\"\n",
    "#print(path)\n",
    "def get_data_directories(root_dir):\n",
    "    data_dirs = []\n",
    "    for root, dirs, files in os.walk(root_dir):\n",
    "        if root.endswith('/data'):\n",
    "            data_dirs.append(root)\n",
    "    return data_dirs\n",
    "\n",
    "datadir_list = get_data_directories(path)"
   ]
  },
  {
   "cell_type": "code",
   "execution_count": 5,
   "id": "cfa2d132-4750-44c8-8e97-23be6024103a",
   "metadata": {},
   "outputs": [
    {
     "data": {
      "text/plain": [
       "['/home/sick/Documents/GIT/bsc-ilia-fedotov/conda/mpi_run/dtool_db/parametric_canal_0.00_960.0/data',\n",
       " '/home/sick/Documents/GIT/bsc-ilia-fedotov/conda/mpi_run/dtool_db/parametric_canal_0.00_1120.0/data',\n",
       " '/home/sick/Documents/GIT/bsc-ilia-fedotov/conda/mpi_run/dtool_db/parametric_canal_0.00_2200.0/data',\n",
       " '/home/sick/Documents/GIT/bsc-ilia-fedotov/conda/mpi_run/dtool_db/parametric_canal_0.00_840.0/data',\n",
       " '/home/sick/Documents/GIT/bsc-ilia-fedotov/conda/mpi_run/dtool_db/parametric_canal_0.00_220.0/data',\n",
       " '/home/sick/Documents/GIT/bsc-ilia-fedotov/conda/mpi_run/dtool_db/parametric_canal_0.00_2240.0/data',\n",
       " '/home/sick/Documents/GIT/bsc-ilia-fedotov/conda/mpi_run/dtool_db/parametric_canal_0.00_1160.0/data',\n",
       " '/home/sick/Documents/GIT/bsc-ilia-fedotov/conda/mpi_run/dtool_db/parametric_canal_0.00_1340.0/data',\n",
       " '/home/sick/Documents/GIT/bsc-ilia-fedotov/conda/mpi_run/dtool_db/parametric_canal_0.00_1820.0/data',\n",
       " '/home/sick/Documents/GIT/bsc-ilia-fedotov/conda/mpi_run/dtool_db/parametric_canal_0.00_60.0/data',\n",
       " '/home/sick/Documents/GIT/bsc-ilia-fedotov/conda/mpi_run/dtool_db/parametric_canal_0.00_120.0/data',\n",
       " '/home/sick/Documents/GIT/bsc-ilia-fedotov/conda/mpi_run/dtool_db/parametric_canal_0.00_160.0/data',\n",
       " '/home/sick/Documents/GIT/bsc-ilia-fedotov/conda/mpi_run/dtool_db/parametric_canal_0.00_1620.0/data',\n",
       " '/home/sick/Documents/GIT/bsc-ilia-fedotov/conda/mpi_run/dtool_db/parametric_canal_0.00_280.0/data',\n",
       " '/home/sick/Documents/GIT/bsc-ilia-fedotov/conda/mpi_run/dtool_db/parametric_canal_0.00_520.0/data',\n",
       " '/home/sick/Documents/GIT/bsc-ilia-fedotov/conda/mpi_run/dtool_db/parametric_canal_0.00_1300.0/data',\n",
       " '/home/sick/Documents/GIT/bsc-ilia-fedotov/conda/mpi_run/dtool_db/parametric_canal_0.00_1220.0/data',\n",
       " '/home/sick/Documents/GIT/bsc-ilia-fedotov/conda/mpi_run/dtool_db/parametric_canal_0.00_1980.0/data',\n",
       " '/home/sick/Documents/GIT/bsc-ilia-fedotov/conda/mpi_run/dtool_db/parametric_canal_0.00_1520.0/data',\n",
       " '/home/sick/Documents/GIT/bsc-ilia-fedotov/conda/mpi_run/dtool_db/parametric_canal_0.00_1560.0/data',\n",
       " '/home/sick/Documents/GIT/bsc-ilia-fedotov/conda/mpi_run/dtool_db/parametric_canal_0.00_80.0/data',\n",
       " '/home/sick/Documents/GIT/bsc-ilia-fedotov/conda/mpi_run/dtool_db/parametric_canal_0.00_760.0/data',\n",
       " '/home/sick/Documents/GIT/bsc-ilia-fedotov/conda/mpi_run/dtool_db/parametric_canal_0.00_2160.0/data',\n",
       " '/home/sick/Documents/GIT/bsc-ilia-fedotov/conda/mpi_run/dtool_db/parametric_canal_0.00_1660.0/data',\n",
       " '/home/sick/Documents/GIT/bsc-ilia-fedotov/conda/mpi_run/dtool_db/parametric_canal_0.01_40.0/data',\n",
       " '/home/sick/Documents/GIT/bsc-ilia-fedotov/conda/mpi_run/dtool_db/parametric_canal_0.00_1700.0/data',\n",
       " '/home/sick/Documents/GIT/bsc-ilia-fedotov/conda/mpi_run/dtool_db/parametric_canal_0.00_1040.0/data',\n",
       " '/home/sick/Documents/GIT/bsc-ilia-fedotov/conda/mpi_run/dtool_db/parametric_canal_0.00_440.0/data',\n",
       " '/home/sick/Documents/GIT/bsc-ilia-fedotov/conda/mpi_run/dtool_db/parametric_canal_0.00_1400.0/data',\n",
       " '/home/sick/Documents/GIT/bsc-ilia-fedotov/conda/mpi_run/dtool_db/parametric_canal_0.00_1540.0/data',\n",
       " '/home/sick/Documents/GIT/bsc-ilia-fedotov/conda/mpi_run/dtool_db/parametric_canal_0.00_260.0/data',\n",
       " '/home/sick/Documents/GIT/bsc-ilia-fedotov/conda/mpi_run/dtool_db/parametric_canal_0.00_900.0/data',\n",
       " '/home/sick/Documents/GIT/bsc-ilia-fedotov/conda/mpi_run/dtool_db/parametric_canal_0.00_2280.0/data',\n",
       " '/home/sick/Documents/GIT/bsc-ilia-fedotov/conda/mpi_run/dtool_db/parametric_canal_0.00_820.0/data',\n",
       " '/home/sick/Documents/GIT/bsc-ilia-fedotov/conda/mpi_run/dtool_db/parametric_canal_0.00_1480.0/data',\n",
       " '/home/sick/Documents/GIT/bsc-ilia-fedotov/conda/mpi_run/dtool_db/parametric_canal_0.00_1960.0/data',\n",
       " '/home/sick/Documents/GIT/bsc-ilia-fedotov/conda/mpi_run/dtool_db/parametric_canal_0.00_740.0/data',\n",
       " '/home/sick/Documents/GIT/bsc-ilia-fedotov/conda/mpi_run/dtool_db/parametric_canal_0.00_1080.0/data',\n",
       " '/home/sick/Documents/GIT/bsc-ilia-fedotov/conda/mpi_run/dtool_db/parametric_canal_0.01_80.0/data',\n",
       " '/home/sick/Documents/GIT/bsc-ilia-fedotov/conda/mpi_run/dtool_db/parametric_canal_0.00_1440.0/data',\n",
       " '/home/sick/Documents/GIT/bsc-ilia-fedotov/conda/mpi_run/dtool_db/parametric_canal_0.00_2300.0/data',\n",
       " '/home/sick/Documents/GIT/bsc-ilia-fedotov/conda/mpi_run/dtool_db/parametric_canal_0.00_1280.0/data',\n",
       " '/home/sick/Documents/GIT/bsc-ilia-fedotov/conda/mpi_run/dtool_db/parametric_canal_0.00_2100.0/data',\n",
       " '/home/sick/Documents/GIT/bsc-ilia-fedotov/conda/mpi_run/dtool_db/parametric_canal_0.00_640.0/data',\n",
       " '/home/sick/Documents/GIT/bsc-ilia-fedotov/conda/mpi_run/dtool_db/parametric_canal_0.00_1940.0/data',\n",
       " '/home/sick/Documents/GIT/bsc-ilia-fedotov/conda/mpi_run/dtool_db/parametric_canal_0.00_1740.0/data',\n",
       " '/home/sick/Documents/GIT/bsc-ilia-fedotov/conda/mpi_run/dtool_db/parametric_canal_0.00_320.0/data',\n",
       " '/home/sick/Documents/GIT/bsc-ilia-fedotov/conda/mpi_run/dtool_db/parametric_canal_0.00_20.0/data',\n",
       " '/home/sick/Documents/GIT/bsc-ilia-fedotov/conda/mpi_run/dtool_db/parametric_canal_0.00_1880.0/data',\n",
       " '/home/sick/Documents/GIT/bsc-ilia-fedotov/conda/mpi_run/dtool_db/parametric_canal_0.00_1360.0/data',\n",
       " '/home/sick/Documents/GIT/bsc-ilia-fedotov/conda/mpi_run/dtool_db/parametric_canal_0.00_40.0/data',\n",
       " '/home/sick/Documents/GIT/bsc-ilia-fedotov/conda/mpi_run/dtool_db/parametric_canal_0.00_800.0/data',\n",
       " '/home/sick/Documents/GIT/bsc-ilia-fedotov/conda/mpi_run/dtool_db/parametric_canal_0.00_980.0/data',\n",
       " '/home/sick/Documents/GIT/bsc-ilia-fedotov/conda/mpi_run/dtool_db/parametric_canal_0.00_140.0/data',\n",
       " '/home/sick/Documents/GIT/bsc-ilia-fedotov/conda/mpi_run/dtool_db/parametric_canal_0.00_940.0/data',\n",
       " '/home/sick/Documents/GIT/bsc-ilia-fedotov/conda/mpi_run/dtool_db/parametric_canal_0.00_2260.0/data',\n",
       " '/home/sick/Documents/GIT/bsc-ilia-fedotov/conda/mpi_run/dtool_db/parametric_canal_0.00_2080.0/data',\n",
       " '/home/sick/Documents/GIT/bsc-ilia-fedotov/conda/mpi_run/dtool_db/parametric_canal_0.00_600.0/data',\n",
       " '/home/sick/Documents/GIT/bsc-ilia-fedotov/conda/mpi_run/dtool_db/parametric_canal_0.00_1760.0/data',\n",
       " '/home/sick/Documents/GIT/bsc-ilia-fedotov/conda/mpi_run/dtool_db/parametric_canal_0.00_1600.0/data',\n",
       " '/home/sick/Documents/GIT/bsc-ilia-fedotov/conda/mpi_run/dtool_db/parametric_canal_0.00_1580.0/data',\n",
       " '/home/sick/Documents/GIT/bsc-ilia-fedotov/conda/mpi_run/dtool_db/parametric_canal_0.00_460.0/data',\n",
       " '/home/sick/Documents/GIT/bsc-ilia-fedotov/conda/mpi_run/dtool_db/parametric_canal_0.00_1420.0/data',\n",
       " '/home/sick/Documents/GIT/bsc-ilia-fedotov/conda/mpi_run/dtool_db/parametric_canal_0.00_1800.0/data',\n",
       " '/home/sick/Documents/GIT/bsc-ilia-fedotov/conda/mpi_run/dtool_db/parametric_canal_0.00_1920.0/data',\n",
       " '/home/sick/Documents/GIT/bsc-ilia-fedotov/conda/mpi_run/dtool_db/parametric_canal_0.00_400.0/data',\n",
       " '/home/sick/Documents/GIT/bsc-ilia-fedotov/conda/mpi_run/dtool_db/parametric_canal_0.00_420.0/data',\n",
       " '/home/sick/Documents/GIT/bsc-ilia-fedotov/conda/mpi_run/dtool_db/parametric_canal_0.00_1180.0/data',\n",
       " '/home/sick/Documents/GIT/bsc-ilia-fedotov/conda/mpi_run/dtool_db/parametric_canal_0.01_20.0/data',\n",
       " '/home/sick/Documents/GIT/bsc-ilia-fedotov/conda/mpi_run/dtool_db/parametric_canal_0.00_480.0/data',\n",
       " '/home/sick/Documents/GIT/bsc-ilia-fedotov/conda/mpi_run/dtool_db/parametric_canal_0.01_60.0/data',\n",
       " '/home/sick/Documents/GIT/bsc-ilia-fedotov/conda/mpi_run/dtool_db/parametric_canal_0.00_360.0/data',\n",
       " '/home/sick/Documents/GIT/bsc-ilia-fedotov/conda/mpi_run/dtool_db/parametric_canal_0.00_2220.0/data',\n",
       " '/home/sick/Documents/GIT/bsc-ilia-fedotov/conda/mpi_run/dtool_db/parametric_canal_0.00_2060.0/data',\n",
       " '/home/sick/Documents/GIT/bsc-ilia-fedotov/conda/mpi_run/dtool_db/parametric_canal_0.00_1100.0/data',\n",
       " '/home/sick/Documents/GIT/bsc-ilia-fedotov/conda/mpi_run/dtool_db/parametric_canal_0.00_1780.0/data',\n",
       " '/home/sick/Documents/GIT/bsc-ilia-fedotov/conda/mpi_run/dtool_db/parametric_canal_0.00_660.0/data',\n",
       " '/home/sick/Documents/GIT/bsc-ilia-fedotov/conda/mpi_run/dtool_db/parametric_canal_0.00_1720.0/data',\n",
       " '/home/sick/Documents/GIT/bsc-ilia-fedotov/conda/mpi_run/dtool_db/parametric_canal_0.00_1840.0/data',\n",
       " '/home/sick/Documents/GIT/bsc-ilia-fedotov/conda/mpi_run/dtool_db/parametric_canal_0.00_540.0/data',\n",
       " '/home/sick/Documents/GIT/bsc-ilia-fedotov/conda/mpi_run/dtool_db/parametric_canal_0.00_300.0/data',\n",
       " '/home/sick/Documents/GIT/bsc-ilia-fedotov/conda/mpi_run/dtool_db/parametric_canal_0.00_1240.0/data',\n",
       " '/home/sick/Documents/GIT/bsc-ilia-fedotov/conda/mpi_run/dtool_db/parametric_canal_0.00_920.0/data',\n",
       " '/home/sick/Documents/GIT/bsc-ilia-fedotov/conda/mpi_run/dtool_db/parametric_canal_0.00_620.0/data',\n",
       " '/home/sick/Documents/GIT/bsc-ilia-fedotov/conda/mpi_run/dtool_db/parametric_canal_0.00_2180.0/data',\n",
       " '/home/sick/Documents/GIT/bsc-ilia-fedotov/conda/mpi_run/dtool_db/parametric_canal_0.00_1140.0/data',\n",
       " '/home/sick/Documents/GIT/bsc-ilia-fedotov/conda/mpi_run/dtool_db/parametric_canal_0.00_240.0/data',\n",
       " '/home/sick/Documents/GIT/bsc-ilia-fedotov/conda/mpi_run/dtool_db/parametric_canal_0.00_2120.0/data',\n",
       " '/home/sick/Documents/GIT/bsc-ilia-fedotov/conda/mpi_run/dtool_db/parametric_canal_0.00_200.0/data',\n",
       " '/home/sick/Documents/GIT/bsc-ilia-fedotov/conda/mpi_run/dtool_db/parametric_canal_0.00_1860.0/data',\n",
       " '/home/sick/Documents/GIT/bsc-ilia-fedotov/conda/mpi_run/dtool_db/parametric_canal_0.00_1020.0/data',\n",
       " '/home/sick/Documents/GIT/bsc-ilia-fedotov/conda/mpi_run/dtool_db/parametric_canal_0.00_1680.0/data',\n",
       " '/home/sick/Documents/GIT/bsc-ilia-fedotov/conda/mpi_run/dtool_db/parametric_canal_0.00_2020.0/data',\n",
       " '/home/sick/Documents/GIT/bsc-ilia-fedotov/conda/mpi_run/dtool_db/parametric_canal_0.00_780.0/data',\n",
       " '/home/sick/Documents/GIT/bsc-ilia-fedotov/conda/mpi_run/dtool_db/parametric_canal_0.00_340.0/data',\n",
       " '/home/sick/Documents/GIT/bsc-ilia-fedotov/conda/mpi_run/dtool_db/parametric_canal_0.00_1640.0/data',\n",
       " '/home/sick/Documents/GIT/bsc-ilia-fedotov/conda/mpi_run/dtool_db/parametric_canal_0.00_1380.0/data',\n",
       " '/home/sick/Documents/GIT/bsc-ilia-fedotov/conda/mpi_run/dtool_db/parametric_canal_0.00_100.0/data',\n",
       " '/home/sick/Documents/GIT/bsc-ilia-fedotov/conda/mpi_run/dtool_db/parametric_canal_0.00_1000.0/data',\n",
       " '/home/sick/Documents/GIT/bsc-ilia-fedotov/conda/mpi_run/dtool_db/parametric_canal_0.00_500.0/data',\n",
       " '/home/sick/Documents/GIT/bsc-ilia-fedotov/conda/mpi_run/dtool_db/parametric_canal_0.00_860.0/data',\n",
       " '/home/sick/Documents/GIT/bsc-ilia-fedotov/conda/mpi_run/dtool_db/parametric_canal_0.00_560.0/data',\n",
       " '/home/sick/Documents/GIT/bsc-ilia-fedotov/conda/mpi_run/dtool_db/parametric_canal_0.00_1460.0/data',\n",
       " '/home/sick/Documents/GIT/bsc-ilia-fedotov/conda/mpi_run/dtool_db/parametric_canal_0.00_580.0/data',\n",
       " '/home/sick/Documents/GIT/bsc-ilia-fedotov/conda/mpi_run/dtool_db/parametric_canal_0.00_380.0/data',\n",
       " '/home/sick/Documents/GIT/bsc-ilia-fedotov/conda/mpi_run/dtool_db/parametric_canal_0.00_880.0/data',\n",
       " '/home/sick/Documents/GIT/bsc-ilia-fedotov/conda/mpi_run/dtool_db/parametric_canal_0.00_180.0/data',\n",
       " '/home/sick/Documents/GIT/bsc-ilia-fedotov/conda/mpi_run/dtool_db/parametric_canal_0.00_2000.0/data',\n",
       " '/home/sick/Documents/GIT/bsc-ilia-fedotov/conda/mpi_run/dtool_db/parametric_canal_0.00_700.0/data',\n",
       " '/home/sick/Documents/GIT/bsc-ilia-fedotov/conda/mpi_run/dtool_db/parametric_canal_0.00_1260.0/data',\n",
       " '/home/sick/Documents/GIT/bsc-ilia-fedotov/conda/mpi_run/dtool_db/parametric_canal_0.00_1900.0/data',\n",
       " '/home/sick/Documents/GIT/bsc-ilia-fedotov/conda/mpi_run/dtool_db/parametric_canal_0.00_1320.0/data',\n",
       " '/home/sick/Documents/GIT/bsc-ilia-fedotov/conda/mpi_run/dtool_db/parametric_canal_0.00_2040.0/data',\n",
       " '/home/sick/Documents/GIT/bsc-ilia-fedotov/conda/mpi_run/dtool_db/parametric_canal_0.00_2140.0/data',\n",
       " '/home/sick/Documents/GIT/bsc-ilia-fedotov/conda/mpi_run/dtool_db/parametric_canal_0.00_1200.0/data',\n",
       " '/home/sick/Documents/GIT/bsc-ilia-fedotov/conda/mpi_run/dtool_db/parametric_canal_0.00_680.0/data',\n",
       " '/home/sick/Documents/GIT/bsc-ilia-fedotov/conda/mpi_run/dtool_db/parametric_canal_0.00_720.0/data',\n",
       " '/home/sick/Documents/GIT/bsc-ilia-fedotov/conda/mpi_run/dtool_db/parametric_canal_0.00_1500.0/data',\n",
       " '/home/sick/Documents/GIT/bsc-ilia-fedotov/conda/mpi_run/dtool_db/parametric_canal_0.00_1060.0/data',\n",
       " '/home/sick/Documents/GIT/bsc-ilia-fedotov/conda/mpi_run/dtool_db/parametric_canal_0.01_100.0/data']"
      ]
     },
     "execution_count": 5,
     "metadata": {},
     "output_type": "execute_result"
    }
   ],
   "source": [
    "datadir_list"
   ]
  },
  {
   "cell_type": "code",
   "execution_count": 9,
   "id": "6581d16f-17df-4529-b104-29a3c753c63f",
   "metadata": {},
   "outputs": [
    {
     "data": {
      "image/png": "[encoded data removed]",
      "text/plain": [
       "<Figure size 640x480 with 2 Axes>"
      ]
     },
     "metadata": {},
     "output_type": "display_data"
    }
   ],
   "source": [
    "pat = r'\\d+\\.\\d+'\n",
    "pat2 = r'(?<=_)\\d+(?=/)'\n",
    "\n",
    "def plot_mfl(pt, pt2, file, title, yl='Velocity', legend=True):\n",
    "    fig, ax = plt.subplots()\n",
    "    ax.set_title(title)\n",
    "    cu = 0\n",
    "    radii = np.round(np.linspace(0.001,0.75,75),2)\n",
    "    radii[5] = 0.17\n",
    "    radii[11] = 0.33\n",
    "    radii[17] = 0.47\n",
    "    press = np.linspace(2,230, 115)\n",
    "    arr = np.empty((75, 115))\n",
    "    for i in datadir_list:\n",
    "        match = re.search(pt, i)\n",
    "        match2 = re.search(pt2, i)\n",
    "        extracted = match.group()\n",
    "        extracted2 = match2.group()\n",
    "        #print(extracted)\n",
    "        #print(extracted2)\n",
    "        if cu ==0 and extracted2!=\"3\" and extracted2!=\"80\":\n",
    "            u = np.loadtxt(i+file)\n",
    "            cu += 1\n",
    "            arr[np.where(radii==float(extracted))[0], np.where(press==int(extracted2))[0]] = np.mean(np.where(u>0))\n",
    "            \"\"\"ax.scatter(float(extracted), int(extracted2), c=np.max(u), cmap='viridis', s=10)\"\"\"\n",
    "            #ax.plot(u,pr, label=f'r= {extracted:s}')\n",
    "        elif extracted2!=\"3\" and extracted2!=\"80\":\n",
    "            u = np.loadtxt(i+file)\n",
    "            cu+=1\n",
    "            arr[np.where(radii==float(extracted))[0], np.where(press==int(extracted2))[0]] = np.mean(np.where(u>0))\n",
    "            #ax[0].plot(u,pr, label=f'r= {extracted:s}')\n",
    "            #ax.scatter(float(extracted), int(extracted2), c=np.max(u), cmap='viridis', s=10)\n",
    "        #cu+=1\n",
    "    neg = ax.imshow(arr)\n",
    "    ax.set_xticks(np.arange(len(press)))\n",
    "    ax.set_yticks(np.arange(len(radii)))\n",
    "    ax.set_xticklabels(press)\n",
    "    ax.set_yticklabels(radii)\n",
    "    fig.colorbar(neg, ax=ax, location='right', anchor=(0, 0.3), shrink=0.7)\n",
    "    #if legend:\n",
    "    #    ax.legend()\n",
    "    #ax.set_xlabel(r'obstacle r', fontsize=14)\n",
    "    #ax.set_ylabel(r'delta P', fontsize=14)\n",
    "\n",
    "plot_mfl(pat, pat2, \"/massflowrate.txt\", \"Massflowrate\", yl='P delta', legend=True)\n",
    "\n"
   ]
  },
  {
   "cell_type": "code",
   "execution_count": 27,
   "id": "e105946c-3b21-4cbb-be1e-d15c00d992da",
   "metadata": {},
   "outputs": [
    {
     "name": "stdout",
     "output_type": "stream",
     "text": [
      "1.12\n",
      "123\n"
     ]
    }
   ],
   "source": [
    "pat = r'\\d+\\.\\d+'\n",
    "pat2 = r'\\d+$'\n",
    "\n",
    "i = \"abcs_1.12_123\"\n",
    "match = re.search(pat, i)\n",
    "match2 = re.search(pat2, i)\n",
    "extracted = match.group()\n",
    "extracted2 = match2.group()\n",
    "print(extracted)\n",
    "print(extracted2)"
   ]
  },
  {
   "cell_type": "code",
   "execution_count": 6,
   "id": "121314a4-3083-4f1c-a209-c1cd35eb9e93",
   "metadata": {},
   "outputs": [
    {
     "data": {
      "text/plain": [
       "array([0.001     , 0.01112162, 0.02124324, 0.03136486, 0.04148649,\n",
       "       0.05160811, 0.06172973, 0.07185135, 0.08197297, 0.09209459,\n",
       "       0.10221622, 0.11233784, 0.12245946, 0.13258108, 0.1427027 ,\n",
       "       0.15282432, 0.16294595, 0.17306757, 0.18318919, 0.19331081,\n",
       "       0.20343243, 0.21355405, 0.22367568, 0.2337973 , 0.24391892,\n",
       "       0.25404054, 0.26416216, 0.27428378, 0.28440541, 0.29452703,\n",
       "       0.30464865, 0.31477027, 0.32489189, 0.33501351, 0.34513514,\n",
       "       0.35525676, 0.36537838, 0.3755    , 0.38562162, 0.39574324,\n",
       "       0.40586486, 0.41598649, 0.42610811, 0.43622973, 0.44635135,\n",
       "       0.45647297, 0.46659459, 0.47671622, 0.48683784, 0.49695946,\n",
       "       0.50708108, 0.5172027 , 0.52732432, 0.53744595, 0.54756757,\n",
       "       0.55768919, 0.56781081, 0.57793243, 0.58805405, 0.59817568,\n",
       "       0.6082973 , 0.61841892, 0.62854054, 0.63866216, 0.64878378,\n",
       "       0.65890541, 0.66902703, 0.67914865, 0.68927027, 0.69939189,\n",
       "       0.70951351, 0.71963514, 0.72975676, 0.73987838, 0.75      ])"
      ]
     },
     "execution_count": 6,
     "metadata": {},
     "output_type": "execute_result"
    }
   ],
   "source": [
    "np.linspace(0.001,.75,75)"
   ]
  },
  {
   "cell_type": "code",
   "execution_count": 8,
   "id": "c729f9b1-2b99-4fbe-841c-d5c89af5dc06",
   "metadata": {},
   "outputs": [
    {
     "data": {
      "text/plain": [
       "array([0.01      , 0.02013699, 0.03027397, 0.04041096, 0.05054795,\n",
       "       0.06068493, 0.07082192, 0.0809589 , 0.09109589, 0.10123288,\n",
       "       0.11136986, 0.12150685, 0.13164384, 0.14178082, 0.15191781,\n",
       "       0.16205479, 0.17219178, 0.18232877, 0.19246575, 0.20260274,\n",
       "       0.21273973, 0.22287671, 0.2330137 , 0.24315068, 0.25328767,\n",
       "       0.26342466, 0.27356164, 0.28369863, 0.29383562, 0.3039726 ,\n",
       "       0.31410959, 0.32424658, 0.33438356, 0.34452055, 0.35465753,\n",
       "       0.36479452, 0.37493151, 0.38506849, 0.39520548, 0.40534247,\n",
       "       0.41547945, 0.42561644, 0.43575342, 0.44589041, 0.4560274 ,\n",
       "       0.46616438, 0.47630137, 0.48643836, 0.49657534, 0.50671233,\n",
       "       0.51684932, 0.5269863 , 0.53712329, 0.54726027, 0.55739726,\n",
       "       0.56753425, 0.57767123, 0.58780822, 0.59794521, 0.60808219,\n",
       "       0.61821918, 0.62835616, 0.63849315, 0.64863014, 0.65876712,\n",
       "       0.66890411, 0.6790411 , 0.68917808, 0.69931507, 0.70945205,\n",
       "       0.71958904, 0.72972603, 0.73986301, 0.75      ])"
      ]
     },
     "execution_count": 8,
     "metadata": {},
     "output_type": "execute_result"
    }
   ],
   "source": [
    "np.linspace(0.01,.75,74)"
   ]
  },
  {
   "cell_type": "code",
   "execution_count": null,
   "id": "211aee7d-29f2-4284-9b76-b75054a8d5f5",
   "metadata": {},
   "outputs": [],
   "source": []
  }
 ],
 "metadata": {
  "kernelspec": {
   "display_name": "Python (fenicsx-env)",
   "language": "python",
   "name": "fenicsx-env"
  },
  "language_info": {
   "codemirror_mode": {
    "name": "ipython",
    "version": 3
   },
   "file_extension": ".py",
   "mimetype": "text/x-python",
   "name": "python",
   "nbconvert_exporter": "python",
   "pygments_lexer": "ipython3",
   "version": "3.13.0"
  },
  "widgets": {
   "application/vnd.jupyter.widget-state+json": {
    "state": {},
    "version_major": 2,
    "version_minor": 0
   }
  }
 },
 "nbformat": 4,
 "nbformat_minor": 5
}
