{
 "cells": [
  {
   "cell_type": "code",
   "execution_count": 21,
   "id": "b4e9ba27-13f8-41fc-b5c4-c50eab978e6f",
   "metadata": {},
   "outputs": [],
   "source": [
    "import numpy as np"
   ]
  },
  {
   "cell_type": "code",
   "execution_count": 27,
   "id": "2a92674d-7182-45a8-a910-6eb6c29176d7",
   "metadata": {},
   "outputs": [],
   "source": [
    "a = np.linspace(1,100,100)\n",
    "a = a.reshape((1,10,10))"
   ]
  },
  {
   "cell_type": "code",
   "execution_count": 28,
   "id": "9121aae2-2533-4d3d-8a81-038837dc2a7f",
   "metadata": {},
   "outputs": [
    {
     "data": {
      "text/plain": [
       "(1, 10, 10)"
      ]
     },
     "execution_count": 28,
     "metadata": {},
     "output_type": "execute_result"
    }
   ],
   "source": [
    "np.shape(a)"
   ]
  },
  {
   "cell_type": "code",
   "execution_count": 30,
   "id": "c56f0eb9-103f-4000-9ac3-bd18512d2697",
   "metadata": {},
   "outputs": [
    {
     "name": "stdout",
     "output_type": "stream",
     "text": [
      "[[False False False False False False False False False False]\n",
      " [False False False False False False False False False False]\n",
      " [False False False False False False False False False False]\n",
      " [False False False False False False False False False False]\n",
      " [False False False False False False False False False False]\n",
      " [False False False False False False False False False False]\n",
      " [False False False False False False False False False False]\n",
      " [False False False False False False False False False False]\n",
      " [False False False False False False False False False False]\n",
      " [False False False False False False False False False False]]\n"
     ]
    }
   ],
   "source": [
    "print(np.isclose(a[0], 0))"
   ]
  },
  {
   "cell_type": "code",
   "execution_count": null,
   "id": "9c027661-4f7b-45e0-9b76-af316bee190a",
   "metadata": {},
   "outputs": [],
   "source": []
  }
 ],
 "metadata": {
  "kernelspec": {
   "display_name": "Python 3 (ipykernel)",
   "language": "python",
   "name": "python3"
  },
  "language_info": {
   "codemirror_mode": {
    "name": "ipython",
    "version": 3
   },
   "file_extension": ".py",
   "mimetype": "text/x-python",
   "name": "python",
   "nbconvert_exporter": "python",
   "pygments_lexer": "ipython3",
   "version": "3.10.12"
  }
 },
 "nbformat": 4,
 "nbformat_minor": 5
}
