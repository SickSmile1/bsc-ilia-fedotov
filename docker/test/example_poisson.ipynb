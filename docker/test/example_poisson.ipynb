{
 "cells": [
  {
   "cell_type": "code",
   "execution_count": 1,
   "id": "e2ece74d-265d-43b7-8517-f84dd6dfd226",
   "metadata": {},
   "outputs": [
    {
     "name": "stdout",
     "output_type": "stream",
     "text": [
      "The history saving thread hit an unexpected error (OperationalError('attempt to write a readonly database')).History will not be written to the database.\n"
     ]
    }
   ],
   "source": [
    "# # Poisson equation\n",
    "#\n",
    "# This demo is implemented in {download}`demo_poisson.py`. It\n",
    "# illustrates how to:\n",
    "#\n",
    "# - Create a {py:class}`function space <dolfinx.fem.FunctionSpace>`\n",
    "# - Solve a linear partial differential equation\n",
    "#\n",
    "# ## Equation and problem definition\n",
    "#\n",
    "# For a domain $\\Omega \\subset \\mathbb{R}^n$ with boundary $\\partial\n",
    "# \\Omega = \\Gamma_{D} \\cup \\Gamma_{N}$, the Poisson equation with\n",
    "# particular boundary conditions reads:\n",
    "#\n",
    "# $$\n",
    "# - \\nabla^{2} u &= f \\quad {\\rm in} \\ \\Omega, \\\\\n",
    "# u &= 0 \\quad {\\rm on} \\ \\Gamma_{D}, \\\\\n",
    "# \\nabla u \\cdot n &= g \\quad {\\rm on} \\ \\Gamma_{N}. \\\\\n",
    "# $$\n",
    "#\n",
    "# where $f$ and $g$ are input data and $n$ denotes the outward directed\n",
    "# boundary normal. The variational problem reads: find $u \\in V$ such\n",
    "# that\n",
    "#\n",
    "# $$\n",
    "# a(u, v) = L(v) \\quad \\forall \\ v \\in V,\n",
    "# $$\n",
    "#\n",
    "# where $V$ is a suitable function space and\n",
    "#\n",
    "# $$mesh, _, _ = gmshio.read_from_msh(gmsh_filename, comm)\n",
    "# a(u, v) &:= \\int_{\\Omega} \\nabla u \\cdot \\nabla v \\, {\\rm d} x, \\\\\n",
    "# L(v)    &:= \\int_{\\Omega} f v \\, {\\rm d} x + \\int_{\\Gamma_{N}} g v \\, {\\rm d} s.\n",
    "# $$\n",
    "#\n",
    "# The expression $a(u, v)$ is the bilinear form and $L(v)$\n",
    "# is the linear form. It is assumed that all functions in $V$\n",
    "# satisfy the Dirichlet boundary conditions ($u = 0 \\ {\\rm on} \\\n",
    "# \\Gamma_{D}$).\n",
    "#\n",
    "# In this demo we consider:\n",
    "#\n",
    "# - $\\Omega = [0,2] \\times [0,1]$ (a rectangle)\n",
    "# - $\\Gamma_{D} = \\{(0, y) \\cup (1, y) \\subset \\partial \\Omega\\}$\n",
    "# - $\\Gamma_{N} = \\{(x, 0) \\cup (x, 1) \\subset \\partial \\Omega\\}$\n",
    "# - $g = \\sin(5x)$\n",
    "# - $f = 10\\exp(-((x - 0.5)^2 + (y - 0.5)^2) / 0.02)$\n",
    "#\n",
    "# ## Implementation\n",
    "#\n",
    "# The modules that will be used are imported:\n",
    "\n",
    "from mpi4py import MPI\n",
    "from petsc4py.PETSc import ScalarType  # type: ignore\n",
    "\n",
    "# +\n",
    "import numpy as np\n",
    "import pyvista\n",
    "\n",
    "import ufl\n",
    "from dolfinx.io import gmshio\n",
    "from dolfinx import fem, io, mesh, plot\n",
    "from dolfinx.fem.petsc import LinearProblem\n",
    "from ufl import ds, dx, grad, inner"
   ]
  },
  {
   "cell_type": "code",
   "execution_count": 2,
   "id": "1040b9df-ba42-456b-ba0a-953c56d87de0",
   "metadata": {},
   "outputs": [],
   "source": [
    "# -\n",
    "\n",
    "# Note that it is important to first `from mpi4py import MPI` to\n",
    "# ensure that MPI is correctly initialised.\n",
    "\n",
    "# We create a rectangular {py:class}`Mesh <dolfinx.mesh.Mesh>` using\n",
    "# {py:func}`create_rectangle <dolfinx.mesh.create_rectangle>`, and\n",
    "# create a finite element {py:class}`function space\n",
    "# <dolfinx.fem.FunctionSpace>` $V$ on the mesh.\n",
    "\n",
    "# +\n",
    "comm = MPI.COMM_WORLD\n",
    "\n",
    "msh = mesh.create_rectangle(comm=MPI.COMM_WORLD,\n",
    "                            points=((0.0, 0.0), (2.0, 1.0)), n=(32, 16),\n",
    "                            cell_type=mesh.CellType.triangle)\n",
    "#msh, _, _ = gmshio.read_from_msh(\"untitled.msh\", comm)\n",
    "\n",
    "V = fem.functionspace(msh, (\"Lagrange\", 1))\n",
    "# -"
   ]
  },
  {
   "cell_type": "code",
   "execution_count": 3,
   "id": "d22e2c8d-94b3-4919-b311-50f6c1260884",
   "metadata": {},
   "outputs": [],
   "source": [
    "# The second argument to {py:func}`functionspace\n",
    "# <dolfinx.fem.functionspace>` is a tuple `(family, degree)`, where\n",
    "# `family` is the finite element family, and `degree` specifies the\n",
    "# polynomial degree. In this case `V` is a space of continuous Lagrange\n",
    "# finite elements of degree 1.\n",
    "#\n",
    "# To apply the Dirichlet boundary conditions, we find the mesh facets\n",
    "# (entities of topological co-dimension 1) that lie on the boundary\n",
    "# $\\Gamma_D$ using {py:func}`locate_entities_boundary\n",
    "# <dolfinx.mesh.locate_entities_boundary>`. The function is provided\n",
    "# with a 'marker' function that returns `True` for points `x` on the\n",
    "# boundary and `False` otherwise.\n",
    "\n",
    "facets = mesh.locate_entities_boundary(msh, dim=(msh.topology.dim - 1),\n",
    "                                       marker=lambda x: np.logical_or(np.isclose(x[0], 0.0),\n",
    "                                                                      np.isclose(x[0], 2.0)))"
   ]
  },
  {
   "cell_type": "code",
   "execution_count": 4,
   "id": "a00c31a9-72dc-4b4b-9703-0a57887ecda4",
   "metadata": {},
   "outputs": [],
   "source": [
    "# We now find the degrees-of-freedom that are associated with the\n",
    "# boundary facets using {py:func}`locate_dofs_topological\n",
    "# <dolfinx.fem.locate_dofs_topological>`:\n",
    "\n",
    "dofs = fem.locate_dofs_topological(V=V, entity_dim=1, entities=facets)\n",
    "\n",
    "# and use {py:func}`dirichletbc <dolfinx.fem.dirichletbc>` to create a\n",
    "# {py:class}`DirichletBC <dolfinx.fem.DirichletBC>` class that\n",
    "# represents the boundary condition:\n",
    "\n",
    "bc = fem.dirichletbc(value=ScalarType(0), dofs=dofs, V=V)"
   ]
  },
  {
   "cell_type": "code",
   "execution_count": 5,
   "id": "7a2a1272-00e2-43a6-9d72-a51188ce3e05",
   "metadata": {},
   "outputs": [],
   "source": [
    "# Next, the variational problem is defined:\n",
    "\n",
    "# +\n",
    "u = ufl.TrialFunction(V)\n",
    "v = ufl.TestFunction(V)\n",
    "x = ufl.SpatialCoordinate(msh)\n",
    "f = 10 * ufl.exp(-((x[0] - 0.5) ** 2 + (x[1] - 0.5) ** 2) / 0.02)\n",
    "g = ufl.sin(5 * x[0])\n",
    "a = inner(grad(u), grad(v)) * dx\n",
    "L = inner(f, v) * dx + inner(g, v) * ds\n",
    "# -"
   ]
  },
  {
   "cell_type": "code",
   "execution_count": 6,
   "id": "4c1e4c8b-8406-40a2-9771-45e9ab744442",
   "metadata": {},
   "outputs": [],
   "source": [
    "# A {py:class}`LinearProblem <dolfinx.fem.petsc.LinearProblem>` object is\n",
    "# created that brings together the variational problem, the Dirichlet\n",
    "# boundary condition, and which specifies the linear solver. In this\n",
    "# case an LU solver us sued. The {py:func}`solve\n",
    "# <dolfinx.fem.petsc.LinearProblem.solve>` computes the solution.\n",
    "\n",
    "# +\n",
    "problem = LinearProblem(a, L, bcs=[bc], petsc_options={\"ksp_type\": \"preonly\", \"pc_type\": \"lu\"})\n",
    "uh = problem.solve()\n",
    "# -"
   ]
  },
  {
   "cell_type": "code",
   "execution_count": 65,
   "id": "348a1798-5fca-4857-b125-e41282d620a7",
   "metadata": {},
   "outputs": [],
   "source": [
    "with io.XDMFFile(msh.comm, \"out_poisson/poisson_selfmade_msh.xdmf\", \"w\") as file:\n",
    "    file.write_mesh(msh)\n",
    "    file.write_function(uh)\n",
    "\n",
    "try:\n",
    "    import pyvista\n",
    "    cells, types, x = plot.vtk_mesh(V)\n",
    "    grid = pyvista.UnstructuredGrid(cells, types, x)\n",
    "    grid.point_data[\"u\"] = uh.x.array.real\n",
    "    grid.set_active_scalars(\"u\")\n",
    "    plotter = pyvista.Plotter()\n",
    "    plotter.add_mesh(grid, show_edges=True)\n",
    "    warped = grid.warp_by_scalar()\n",
    "    plotter.add_mesh(warped)\n",
    "    pyvista.start_xvfb(wait=0.3)\n",
    "    plotter.screenshot(\"uh_poisson.png\")\n",
    "except ModuleNotFoundError:\n",
    "    print(\"'pyvista' is required to visualise the solution\")\n",
    "    print(\"Install 'pyvista' with pip: 'python3 -m pip install pyvista'\")"
   ]
  },
  {
   "cell_type": "code",
   "execution_count": 7,
   "id": "ad2867f3-4a20-474a-b270-d1278d9454ff",
   "metadata": {},
   "outputs": [
    {
     "data": {
      "text/plain": [
       "Coefficient(FunctionSpace(Mesh(blocked element (Basix element (P, triangle, 1, gll_warped, unset, False, float64, []), (2,)), 0), Basix element (P, triangle, 1, gll_warped, unset, False, float64, [])), 0)"
      ]
     },
     "execution_count": 7,
     "metadata": {},
     "output_type": "execute_result"
    }
   ],
   "source": [
    "uh"
   ]
  },
  {
   "cell_type": "code",
   "execution_count": null,
   "id": "ffbaa49f-56a2-48f0-9504-ae7933a63c7d",
   "metadata": {},
   "outputs": [],
   "source": []
  }
 ],
 "metadata": {
  "kernelspec": {
   "display_name": "Python 3 (DOLFINx complex)",
   "language": "python",
   "name": "python3-complex"
  },
  "language_info": {
   "codemirror_mode": {
    "name": "ipython",
    "version": 3
   },
   "file_extension": ".py",
   "mimetype": "text/x-python",
   "name": "python",
   "nbconvert_exporter": "python",
   "pygments_lexer": "ipython3",
   "version": "3.10.12"
  }
 },
 "nbformat": 4,
 "nbformat_minor": 5
}
