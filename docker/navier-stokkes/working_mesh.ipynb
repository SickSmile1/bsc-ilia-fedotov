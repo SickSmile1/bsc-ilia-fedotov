{
 "cells": [
  {
   "cell_type": "code",
   "execution_count": null,
   "id": "e0277603-49ef-42f1-88df-8e52c33c1eb9",
   "metadata": {},
   "outputs": [],
   "source": []
  }
 ],
 "metadata": {
  "kernelspec": {
   "display_name": "Python 3 (ipykernel)",
   "language": "python",
   "name": "python3"
  },
  "language_info": {
   "name": ""
  }
 },
 "nbformat": 4,
 "nbformat_minor": 5
}
