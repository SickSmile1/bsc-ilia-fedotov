{
 "cells": [
  {
   "cell_type": "code",
   "execution_count": 1,
   "id": "283ceec5-5f65-4cff-bd19-09710d525a64",
   "metadata": {},
   "outputs": [
    {
     "name": "stderr",
     "output_type": "stream",
     "text": [
      "/tmp/ipykernel_132/3291473246.py:5: TqdmExperimentalWarning: Using `tqdm.autonotebook.tqdm` in notebook mode. Use `tqdm.tqdm` instead to force console mode (e.g. in jupyter console)\n",
      "  import tqdm.autonotebook\n"
     ]
    }
   ],
   "source": [
    "import gmsh\n",
    "import os\n",
    "import numpy as np\n",
    "import matplotlib.pyplot as plt\n",
    "import tqdm.autonotebook\n",
    "\n",
    "from mpi4py import MPI\n",
    "from petsc4py import PETSc\n",
    "\n",
    "from basix.ufl import element\n",
    "\n",
    "from dolfinx.cpp.mesh import to_type, cell_entity_type\n",
    "from dolfinx.fem import (Constant, Function, functionspace,\n",
    "                         assemble_scalar, dirichletbc, form, locate_dofs_topological, set_bc)\n",
    "from dolfinx.fem.petsc import (apply_lifting, assemble_matrix, assemble_vector,\n",
    "                               create_vector, create_matrix, set_bc)\n",
    "from dolfinx.graph import adjacencylist\n",
    "from dolfinx.geometry import bb_tree, compute_collisions_points, compute_colliding_cells\n",
    "from dolfinx.io import (VTXWriter, distribute_entity_data, gmshio)\n",
    "from dolfinx.mesh import create_mesh, meshtags_from_entities\n",
    "from ufl import (FacetNormal, Identity, Measure, TestFunction, TrialFunction,\n",
    "                 as_vector, div, dot, ds, dx, inner, lhs, grad, nabla_grad, rhs, sym, system)\n",
    "\n",
    "gmsh.initialize()\n",
    "\n",
    "L = 2.2\n",
    "H = 0.41\n",
    "c_x = c_y = 0.2\n",
    "r = 0.05\n",
    "gdim = 2\n",
    "mesh_comm = MPI.COMM_WORLD\n",
    "model_rank = 0\n",
    "if mesh_comm.rank == model_rank:\n",
    "    rectangle = gmsh.model.occ.addRectangle(0, 0, 0, L, H, tag=1)\n",
    "    obstacle = gmsh.model.occ.addDisk(c_x, c_y, 0, r, r)"
   ]
  },
  {
   "cell_type": "code",
   "execution_count": 2,
   "id": "4492abea-c90d-4b4c-8f9a-f4211970099b",
   "metadata": {},
   "outputs": [],
   "source": [
    "if mesh_comm.rank == model_rank:\n",
    "    fluid = gmsh.model.occ.cut([(gdim, rectangle)], [(gdim, obstacle)])\n",
    "    gmsh.model.occ.synchronize()"
   ]
  },
  {
   "cell_type": "code",
   "execution_count": 3,
   "id": "09697718-510f-47aa-bf31-35efff2b94e0",
   "metadata": {},
   "outputs": [],
   "source": [
    "fluid_marker = 1\n",
    "if mesh_comm.rank == model_rank:\n",
    "    volumes = gmsh.model.getEntities(dim=gdim)\n",
    "    assert (len(volumes) == 1)\n",
    "    gmsh.model.addPhysicalGroup(volumes[0][0], [volumes[0][1]], fluid_marker)\n",
    "    gmsh.model.setPhysicalName(volumes[0][0], fluid_marker, \"Fluid\")"
   ]
  },
  {
   "cell_type": "code",
   "execution_count": 4,
   "id": "7f9b906d-6e12-4eab-8921-5456832afd05",
   "metadata": {},
   "outputs": [],
   "source": [
    "inlet_marker, outlet_marker, wall_marker, obstacle_marker = 2, 3, 4, 5\n",
    "inflow, outflow, walls, obstacle = [], [], [], []\n",
    "if mesh_comm.rank == model_rank:\n",
    "    boundaries = gmsh.model.getBoundary(volumes, oriented=False)\n",
    "    for boundary in boundaries:\n",
    "        center_of_mass = gmsh.model.occ.getCenterOfMass(boundary[0], boundary[1])\n",
    "        if np.allclose(center_of_mass, [0, H / 2, 0]):\n",
    "            inflow.append(boundary[1])\n",
    "        elif np.allclose(center_of_mass, [L, H / 2, 0]):\n",
    "            outflow.append(boundary[1])\n",
    "        elif np.allclose(center_of_mass, [L / 2, H, 0]) or np.allclose(center_of_mass, [L / 2, 0, 0]):\n",
    "            walls.append(boundary[1])\n",
    "        else:\n",
    "            obstacle.append(boundary[1])\n",
    "    gmsh.model.addPhysicalGroup(1, walls, wall_marker)\n",
    "    gmsh.model.setPhysicalName(1, wall_marker, \"Walls\")\n",
    "    gmsh.model.addPhysicalGroup(1, inflow, inlet_marker)\n",
    "    gmsh.model.setPhysicalName(1, inlet_marker, \"Inlet\")\n",
    "    gmsh.model.addPhysicalGroup(1, outflow, outlet_marker)\n",
    "    gmsh.model.setPhysicalName(1, outlet_marker, \"Outlet\")\n",
    "    gmsh.model.addPhysicalGroup(1, obstacle, obstacle_marker)\n",
    "    gmsh.model.setPhysicalName(1, obstacle_marker, \"Obstacle\")"
   ]
  },
  {
   "cell_type": "code",
   "execution_count": 5,
   "id": "e8b77267-e110-4ac4-8662-a2294075b839",
   "metadata": {},
   "outputs": [],
   "source": [
    "# Create distance field from obstacle.\n",
    "# Add threshold of mesh sizes based on the distance field\n",
    "# LcMax -                  /--------\n",
    "#                      /\n",
    "# LcMin -o---------/\n",
    "#        |         |       |\n",
    "#       Point    DistMin DistMax\n",
    "res_min = r / 3\n",
    "if mesh_comm.rank == model_rank:\n",
    "    distance_field = gmsh.model.mesh.field.add(\"Distance\")\n",
    "    gmsh.model.mesh.field.setNumbers(distance_field, \"EdgesList\", obstacle)\n",
    "    threshold_field = gmsh.model.mesh.field.add(\"Threshold\")\n",
    "    gmsh.model.mesh.field.setNumber(threshold_field, \"IField\", distance_field)\n",
    "    gmsh.model.mesh.field.setNumber(threshold_field, \"LcMin\", res_min)\n",
    "    gmsh.model.mesh.field.setNumber(threshold_field, \"LcMax\", 0.25 * H)\n",
    "    gmsh.model.mesh.field.setNumber(threshold_field, \"DistMin\", r)\n",
    "    gmsh.model.mesh.field.setNumber(threshold_field, \"DistMax\", 2 * H)\n",
    "    min_field = gmsh.model.mesh.field.add(\"Min\")\n",
    "    gmsh.model.mesh.field.setNumbers(min_field, \"FieldsList\", [threshold_field])\n",
    "    gmsh.model.mesh.field.setAsBackgroundMesh(min_field)"
   ]
  },
  {
   "cell_type": "code",
   "execution_count": 6,
   "id": "93cc1054-c1e1-41e9-8d24-b73cef4ab544",
   "metadata": {},
   "outputs": [
    {
     "name": "stdout",
     "output_type": "stream",
     "text": [
      "Info    : Meshing 1D...\n",
      "Info    : [  0%] Meshing curve 5 (Ellipse)\n",
      "Info    : [ 20%] Meshing curve 6 (Line)\n",
      "Info    : [ 40%] Meshing curve 7 (Line)\n",
      "Info    : [ 60%] Meshing curve 8 (Line)\n",
      "Info    : [ 80%] Meshing curve 9 (Line)\n",
      "Info    : Done meshing 1D (Wall 0.00671078s, CPU 0.008116s)\n",
      "Info    : Meshing 2D...\n",
      "Info    : Meshing surface 1 (Plane, Frontal-Delaunay for Quads)\n",
      "Info    : Simple recombination completed (Wall 0.00153667s, CPU 0.0015s): 103 quads, 16 triangles, 0 invalid quads, 0 quads with Q < 0.1, avg Q = 0.82361, min Q = 0.425555\n",
      "Info    : Simple recombination completed (Wall 0.00223844s, CPU 0.002182s): 460 quads, 0 triangles, 0 invalid quads, 0 quads with Q < 0.1, avg Q = 0.865979, min Q = 0.499255\n",
      "Info    : Done meshing 2D (Wall 0.00654358s, CPU 0.004437s)\n",
      "Info    : Refining mesh...\n",
      "Info    : Meshing order 2 (curvilinear on)...\n",
      "Info    : [  0%] Meshing curve 5 order 2\n",
      "Info    : [ 20%] Meshing curve 6 order 2\n",
      "Info    : [ 40%] Meshing curve 7 order 2\n",
      "Info    : [ 50%] Meshing curve 8 order 2\n",
      "Info    : [ 70%] Meshing curve 9 order 2\n",
      "Info    : [ 90%] Meshing surface 1 order 2\n",
      "Info    : Done meshing order 2 (Wall 0.0021378s, CPU 0.002313s)\n",
      "Info    : Done refining mesh (Wall 0.00233964s, CPU 0.002539s)\n",
      "Info    : 1952 nodes 2069 elements\n",
      "Info    : Meshing order 2 (curvilinear on)...\n",
      "Info    : [  0%] Meshing curve 5 order 2\n",
      "Info    : [ 20%] Meshing curve 6 order 2\n",
      "Info    : [ 40%] Meshing curve 7 order 2\n",
      "Info    : [ 50%] Meshing curve 8 order 2\n",
      "Info    : [ 70%] Meshing curve 9 order 2\n",
      "Info    : [ 90%] Meshing surface 1 order 2\n",
      "Info    : Done meshing order 2 (Wall 0.00903338s, CPU 0.009155s)\n",
      "Info    : Optimizing mesh (Netgen)...\n",
      "Info    : Done optimizing mesh (Wall 2.375e-06s, CPU 2e-06s)\n"
     ]
    }
   ],
   "source": [
    "if mesh_comm.rank == model_rank:\n",
    "    gmsh.option.setNumber(\"Mesh.Algorithm\", 8)\n",
    "    gmsh.option.setNumber(\"Mesh.RecombinationAlgorithm\", 2)\n",
    "    gmsh.option.setNumber(\"Mesh.RecombineAll\", 1)\n",
    "    gmsh.option.setNumber(\"Mesh.SubdivisionAlgorithm\", 1)\n",
    "    gmsh.model.mesh.generate(gdim)\n",
    "    gmsh.model.mesh.setOrder(2)\n",
    "    gmsh.model.mesh.optimize(\"Netgen\")"
   ]
  },
  {
   "cell_type": "code",
   "execution_count": 7,
   "id": "8f2426f9-770b-49f0-bb23-061353274645",
   "metadata": {},
   "outputs": [],
   "source": [
    "mesh, _, ft = gmshio.model_to_mesh(gmsh.model, mesh_comm, model_rank, gdim=gdim)\n",
    "ft.name = \"Facet markers\""
   ]
  },
  {
   "cell_type": "code",
   "execution_count": 8,
   "id": "45ce6a88-19f9-4aec-a5ac-fd83058f4f81",
   "metadata": {},
   "outputs": [],
   "source": [
    "t = 0\n",
    "T = 8                       # Final time\n",
    "dt = 1 / 1600                 # Time step size\n",
    "num_steps = int(T / dt)\n",
    "k = Constant(mesh, PETSc.ScalarType(dt))\n",
    "mu = Constant(mesh, PETSc.ScalarType(0.001))  # Dynamic viscosity\n",
    "rho = Constant(mesh, PETSc.ScalarType(1))     # Density"
   ]
  },
  {
   "cell_type": "code",
   "execution_count": 9,
   "id": "40ed9a96-5ef7-4c1d-a64d-261e0ecb1f0a",
   "metadata": {},
   "outputs": [],
   "source": [
    "v_cg2 = element(\"Lagrange\", mesh.topology.cell_name(), 2, shape=(mesh.geometry.dim, ))\n",
    "s_cg1 = element(\"Lagrange\", mesh.topology.cell_name(), 1)\n",
    "V = functionspace(mesh, v_cg2)\n",
    "Q = functionspace(mesh, s_cg1)\n",
    "\n",
    "fdim = mesh.topology.dim - 1\n",
    "\n",
    "# Define boundary conditions\n",
    "\n",
    "\n",
    "class InletVelocity():\n",
    "    def __init__(self, t):\n",
    "        self.t = t\n",
    "\n",
    "    def __call__(self, x):\n",
    "        values = np.zeros((gdim, x.shape[1]), dtype=PETSc.ScalarType)\n",
    "        values[0] = 4 * 1.5 * np.sin(self.t * np.pi / 8) * x[1] * (0.41 - x[1]) / (0.41**2)\n",
    "        return values\n",
    "\n",
    "\n",
    "# Inlet\n",
    "u_inlet = Function(V)\n",
    "inlet_velocity = InletVelocity(t)\n",
    "u_inlet.interpolate(inlet_velocity)\n",
    "bcu_inflow = dirichletbc(u_inlet, locate_dofs_topological(V, fdim, ft.find(inlet_marker)))\n",
    "# Walls\n",
    "u_nonslip = np.array((0,) * mesh.geometry.dim, dtype=PETSc.ScalarType)\n",
    "bcu_walls = dirichletbc(u_nonslip, locate_dofs_topological(V, fdim, ft.find(wall_marker)), V)\n",
    "# Obstacle\n",
    "bcu_obstacle = dirichletbc(u_nonslip, locate_dofs_topological(V, fdim, ft.find(obstacle_marker)), V)\n",
    "bcu = [bcu_inflow, bcu_obstacle, bcu_walls]\n",
    "# Outlet\n",
    "bcp_outlet = dirichletbc(PETSc.ScalarType(0), locate_dofs_topological(Q, fdim, ft.find(outlet_marker)), Q)\n",
    "bcp = [bcp_outlet]"
   ]
  },
  {
   "cell_type": "code",
   "execution_count": 10,
   "id": "69da7728-7cf7-459a-9387-adf95782f95d",
   "metadata": {},
   "outputs": [],
   "source": [
    "u = TrialFunction(V)\n",
    "v = TestFunction(V)\n",
    "u_ = Function(V)\n",
    "u_.name = \"u\"\n",
    "u_s = Function(V)\n",
    "u_n = Function(V)\n",
    "u_n1 = Function(V)\n",
    "p = TrialFunction(Q)\n",
    "q = TestFunction(Q)\n",
    "p_ = Function(Q)\n",
    "p_.name = \"p\"\n",
    "phi = Function(Q)"
   ]
  },
  {
   "cell_type": "code",
   "execution_count": 11,
   "id": "e7f1b1eb-1db2-4f4e-8c43-69026c257190",
   "metadata": {},
   "outputs": [
    {
     "ename": "ArityMismatch",
     "evalue": "Adding expressions with non-matching form arguments ('conj(v_0)', 'v_1') vs ('v_0', 'v_1').",
     "output_type": "error",
     "traceback": [
      "\u001b[0;31m---------------------------------------------------------------------------\u001b[0m",
      "\u001b[0;31mArityMismatch\u001b[0m                             Traceback (most recent call last)",
      "Cell \u001b[0;32mIn[11], line 6\u001b[0m\n\u001b[1;32m      4\u001b[0m F1 \u001b[38;5;241m+\u001b[39m\u001b[38;5;241m=\u001b[39m \u001b[38;5;241m0.5\u001b[39m \u001b[38;5;241m*\u001b[39m mu \u001b[38;5;241m*\u001b[39m inner(grad(u \u001b[38;5;241m+\u001b[39m u_n), grad(v)) \u001b[38;5;241m*\u001b[39m dx \u001b[38;5;241m-\u001b[39m dot(p_, div(v)) \u001b[38;5;241m*\u001b[39m dx\n\u001b[1;32m      5\u001b[0m F1 \u001b[38;5;241m+\u001b[39m\u001b[38;5;241m=\u001b[39m dot(f, v) \u001b[38;5;241m*\u001b[39m dx\n\u001b[0;32m----> 6\u001b[0m a1 \u001b[38;5;241m=\u001b[39m \u001b[43mform\u001b[49m\u001b[43m(\u001b[49m\u001b[43mlhs\u001b[49m\u001b[43m(\u001b[49m\u001b[43mF1\u001b[49m\u001b[43m)\u001b[49m\u001b[43m)\u001b[49m\n\u001b[1;32m      7\u001b[0m L1 \u001b[38;5;241m=\u001b[39m form(rhs(F1))\n\u001b[1;32m      8\u001b[0m A1 \u001b[38;5;241m=\u001b[39m create_matrix(a1)\n",
      "File \u001b[0;32m/usr/local/dolfinx-complex/lib/python3.10/dist-packages/dolfinx/fem/forms.py:249\u001b[0m, in \u001b[0;36mform\u001b[0;34m(form, dtype, form_compiler_options, jit_options, entity_maps)\u001b[0m\n\u001b[1;32m    246\u001b[0m         \u001b[38;5;28;01mreturn\u001b[39;00m \u001b[38;5;28mlist\u001b[39m(\u001b[38;5;28mmap\u001b[39m(\u001b[38;5;28;01mlambda\u001b[39;00m sub_form: _create_form(sub_form), form))\n\u001b[1;32m    247\u001b[0m     \u001b[38;5;28;01mreturn\u001b[39;00m form\n\u001b[0;32m--> 249\u001b[0m \u001b[38;5;28;01mreturn\u001b[39;00m \u001b[43m_create_form\u001b[49m\u001b[43m(\u001b[49m\u001b[43mform\u001b[49m\u001b[43m)\u001b[49m\n",
      "File \u001b[0;32m/usr/local/dolfinx-complex/lib/python3.10/dist-packages/dolfinx/fem/forms.py:244\u001b[0m, in \u001b[0;36mform.<locals>._create_form\u001b[0;34m(form)\u001b[0m\n\u001b[1;32m    241\u001b[0m \u001b[38;5;250m\u001b[39m\u001b[38;5;124;03m\"\"\"Recursively convert ufl.Forms to dolfinx.fem.Form, otherwise\u001b[39;00m\n\u001b[1;32m    242\u001b[0m \u001b[38;5;124;03mreturn form argument\"\"\"\u001b[39;00m\n\u001b[1;32m    243\u001b[0m \u001b[38;5;28;01mif\u001b[39;00m \u001b[38;5;28misinstance\u001b[39m(form, ufl\u001b[38;5;241m.\u001b[39mForm):\n\u001b[0;32m--> 244\u001b[0m     \u001b[38;5;28;01mreturn\u001b[39;00m \u001b[43m_form\u001b[49m\u001b[43m(\u001b[49m\u001b[43mform\u001b[49m\u001b[43m)\u001b[49m\n\u001b[1;32m    245\u001b[0m \u001b[38;5;28;01melif\u001b[39;00m \u001b[38;5;28misinstance\u001b[39m(form, collections\u001b[38;5;241m.\u001b[39mabc\u001b[38;5;241m.\u001b[39mIterable):\n\u001b[1;32m    246\u001b[0m     \u001b[38;5;28;01mreturn\u001b[39;00m \u001b[38;5;28mlist\u001b[39m(\u001b[38;5;28mmap\u001b[39m(\u001b[38;5;28;01mlambda\u001b[39;00m sub_form: _create_form(sub_form), form))\n",
      "File \u001b[0;32m/usr/local/dolfinx-complex/lib/python3.10/dist-packages/dolfinx/fem/forms.py:186\u001b[0m, in \u001b[0;36mform.<locals>._form\u001b[0;34m(form)\u001b[0m\n\u001b[1;32m    184\u001b[0m \u001b[38;5;28;01mif\u001b[39;00m mesh \u001b[38;5;129;01mis\u001b[39;00m \u001b[38;5;28;01mNone\u001b[39;00m:\n\u001b[1;32m    185\u001b[0m     \u001b[38;5;28;01mraise\u001b[39;00m \u001b[38;5;167;01mRuntimeError\u001b[39;00m(\u001b[38;5;124m\"\u001b[39m\u001b[38;5;124mExpecting to find a Mesh in the form.\u001b[39m\u001b[38;5;124m\"\u001b[39m)\n\u001b[0;32m--> 186\u001b[0m ufcx_form, module, code \u001b[38;5;241m=\u001b[39m \u001b[43mjit\u001b[49m\u001b[38;5;241;43m.\u001b[39;49m\u001b[43mffcx_jit\u001b[49m\u001b[43m(\u001b[49m\n\u001b[1;32m    187\u001b[0m \u001b[43m    \u001b[49m\u001b[43mmesh\u001b[49m\u001b[38;5;241;43m.\u001b[39;49m\u001b[43mcomm\u001b[49m\u001b[43m,\u001b[49m\u001b[43m \u001b[49m\u001b[43mform\u001b[49m\u001b[43m,\u001b[49m\u001b[43m \u001b[49m\u001b[43mform_compiler_options\u001b[49m\u001b[38;5;241;43m=\u001b[39;49m\u001b[43mform_compiler_options\u001b[49m\u001b[43m,\u001b[49m\u001b[43m \u001b[49m\u001b[43mjit_options\u001b[49m\u001b[38;5;241;43m=\u001b[39;49m\u001b[43mjit_options\u001b[49m\n\u001b[1;32m    188\u001b[0m \u001b[43m\u001b[49m\u001b[43m)\u001b[49m\n\u001b[1;32m    190\u001b[0m \u001b[38;5;66;03m# For each argument in form extract its function space\u001b[39;00m\n\u001b[1;32m    191\u001b[0m V \u001b[38;5;241m=\u001b[39m [arg\u001b[38;5;241m.\u001b[39mufl_function_space()\u001b[38;5;241m.\u001b[39m_cpp_object \u001b[38;5;28;01mfor\u001b[39;00m arg \u001b[38;5;129;01min\u001b[39;00m form\u001b[38;5;241m.\u001b[39marguments()]\n",
      "File \u001b[0;32m/usr/local/dolfinx-complex/lib/python3.10/dist-packages/dolfinx/jit.py:51\u001b[0m, in \u001b[0;36mmpi_jit_decorator.<locals>.mpi_jit\u001b[0;34m(comm, *args, **kwargs)\u001b[0m\n\u001b[1;32m     47\u001b[0m \u001b[38;5;129m@functools\u001b[39m\u001b[38;5;241m.\u001b[39mwraps(local_jit)\n\u001b[1;32m     48\u001b[0m \u001b[38;5;28;01mdef\u001b[39;00m \u001b[38;5;21mmpi_jit\u001b[39m(comm, \u001b[38;5;241m*\u001b[39margs, \u001b[38;5;241m*\u001b[39m\u001b[38;5;241m*\u001b[39mkwargs):\n\u001b[1;32m     49\u001b[0m     \u001b[38;5;66;03m# Just call JIT compiler when running in serial\u001b[39;00m\n\u001b[1;32m     50\u001b[0m     \u001b[38;5;28;01mif\u001b[39;00m comm\u001b[38;5;241m.\u001b[39msize \u001b[38;5;241m==\u001b[39m \u001b[38;5;241m1\u001b[39m:\n\u001b[0;32m---> 51\u001b[0m         \u001b[38;5;28;01mreturn\u001b[39;00m \u001b[43mlocal_jit\u001b[49m\u001b[43m(\u001b[49m\u001b[38;5;241;43m*\u001b[39;49m\u001b[43margs\u001b[49m\u001b[43m,\u001b[49m\u001b[43m \u001b[49m\u001b[38;5;241;43m*\u001b[39;49m\u001b[38;5;241;43m*\u001b[39;49m\u001b[43mkwargs\u001b[49m\u001b[43m)\u001b[49m\n\u001b[1;32m     53\u001b[0m     \u001b[38;5;66;03m# Default status (0 == ok, 1 == fail)\u001b[39;00m\n\u001b[1;32m     54\u001b[0m     status \u001b[38;5;241m=\u001b[39m \u001b[38;5;241m0\u001b[39m\n",
      "File \u001b[0;32m/usr/local/dolfinx-complex/lib/python3.10/dist-packages/dolfinx/jit.py:201\u001b[0m, in \u001b[0;36mffcx_jit\u001b[0;34m(ufl_object, form_compiler_options, jit_options)\u001b[0m\n\u001b[1;32m    199\u001b[0m \u001b[38;5;66;03m# Switch on type and compile, returning cffi object\u001b[39;00m\n\u001b[1;32m    200\u001b[0m \u001b[38;5;28;01mif\u001b[39;00m \u001b[38;5;28misinstance\u001b[39m(ufl_object, ufl\u001b[38;5;241m.\u001b[39mForm):\n\u001b[0;32m--> 201\u001b[0m     r \u001b[38;5;241m=\u001b[39m \u001b[43mffcx\u001b[49m\u001b[38;5;241;43m.\u001b[39;49m\u001b[43mcodegeneration\u001b[49m\u001b[38;5;241;43m.\u001b[39;49m\u001b[43mjit\u001b[49m\u001b[38;5;241;43m.\u001b[39;49m\u001b[43mcompile_forms\u001b[49m\u001b[43m(\u001b[49m\u001b[43m[\u001b[49m\u001b[43mufl_object\u001b[49m\u001b[43m]\u001b[49m\u001b[43m,\u001b[49m\u001b[43m \u001b[49m\u001b[43moptions\u001b[49m\u001b[38;5;241;43m=\u001b[39;49m\u001b[43mp_ffcx\u001b[49m\u001b[43m,\u001b[49m\u001b[43m \u001b[49m\u001b[38;5;241;43m*\u001b[39;49m\u001b[38;5;241;43m*\u001b[39;49m\u001b[43mp_jit\u001b[49m\u001b[43m)\u001b[49m\n\u001b[1;32m    202\u001b[0m \u001b[38;5;28;01melif\u001b[39;00m \u001b[38;5;28misinstance\u001b[39m(ufl_object, ufl\u001b[38;5;241m.\u001b[39mAbstractFiniteElement):\n\u001b[1;32m    203\u001b[0m     r \u001b[38;5;241m=\u001b[39m ffcx\u001b[38;5;241m.\u001b[39mcodegeneration\u001b[38;5;241m.\u001b[39mjit\u001b[38;5;241m.\u001b[39mcompile_elements([ufl_object], options\u001b[38;5;241m=\u001b[39mp_ffcx, \u001b[38;5;241m*\u001b[39m\u001b[38;5;241m*\u001b[39mp_jit)\n",
      "File \u001b[0;32m/usr/local/lib/python3.10/dist-packages/ffcx/codegeneration/jit.py:256\u001b[0m, in \u001b[0;36mcompile_forms\u001b[0;34m(forms, options, cache_dir, timeout, cffi_extra_compile_args, cffi_verbose, cffi_debug, cffi_libraries, visualise)\u001b[0m\n\u001b[1;32m    253\u001b[0m     \u001b[38;5;28;01mfor\u001b[39;00m name \u001b[38;5;129;01min\u001b[39;00m form_names:\n\u001b[1;32m    254\u001b[0m         decl \u001b[38;5;241m+\u001b[39m\u001b[38;5;241m=\u001b[39m form_template\u001b[38;5;241m.\u001b[39mformat(name\u001b[38;5;241m=\u001b[39mname)\n\u001b[0;32m--> 256\u001b[0m     impl \u001b[38;5;241m=\u001b[39m \u001b[43m_compile_objects\u001b[49m\u001b[43m(\u001b[49m\n\u001b[1;32m    257\u001b[0m \u001b[43m        \u001b[49m\u001b[43mdecl\u001b[49m\u001b[43m,\u001b[49m\n\u001b[1;32m    258\u001b[0m \u001b[43m        \u001b[49m\u001b[43mforms\u001b[49m\u001b[43m,\u001b[49m\n\u001b[1;32m    259\u001b[0m \u001b[43m        \u001b[49m\u001b[43mform_names\u001b[49m\u001b[43m,\u001b[49m\n\u001b[1;32m    260\u001b[0m \u001b[43m        \u001b[49m\u001b[43mmodule_name\u001b[49m\u001b[43m,\u001b[49m\n\u001b[1;32m    261\u001b[0m \u001b[43m        \u001b[49m\u001b[43mp\u001b[49m\u001b[43m,\u001b[49m\n\u001b[1;32m    262\u001b[0m \u001b[43m        \u001b[49m\u001b[43mcache_dir\u001b[49m\u001b[43m,\u001b[49m\n\u001b[1;32m    263\u001b[0m \u001b[43m        \u001b[49m\u001b[43mcffi_extra_compile_args\u001b[49m\u001b[43m,\u001b[49m\n\u001b[1;32m    264\u001b[0m \u001b[43m        \u001b[49m\u001b[43mcffi_verbose\u001b[49m\u001b[43m,\u001b[49m\n\u001b[1;32m    265\u001b[0m \u001b[43m        \u001b[49m\u001b[43mcffi_debug\u001b[49m\u001b[43m,\u001b[49m\n\u001b[1;32m    266\u001b[0m \u001b[43m        \u001b[49m\u001b[43mcffi_libraries\u001b[49m\u001b[43m,\u001b[49m\n\u001b[1;32m    267\u001b[0m \u001b[43m        \u001b[49m\u001b[43mvisualise\u001b[49m\u001b[38;5;241;43m=\u001b[39;49m\u001b[43mvisualise\u001b[49m\u001b[43m,\u001b[49m\n\u001b[1;32m    268\u001b[0m \u001b[43m    \u001b[49m\u001b[43m)\u001b[49m\n\u001b[1;32m    269\u001b[0m \u001b[38;5;28;01mexcept\u001b[39;00m \u001b[38;5;167;01mException\u001b[39;00m \u001b[38;5;28;01mas\u001b[39;00m e:\n\u001b[1;32m    270\u001b[0m     \u001b[38;5;28;01mtry\u001b[39;00m:\n\u001b[1;32m    271\u001b[0m         \u001b[38;5;66;03m# remove c file so that it will not timeout next time\u001b[39;00m\n",
      "File \u001b[0;32m/usr/local/lib/python3.10/dist-packages/ffcx/codegeneration/jit.py:383\u001b[0m, in \u001b[0;36m_compile_objects\u001b[0;34m(decl, ufl_objects, object_names, module_name, options, cache_dir, cffi_extra_compile_args, cffi_verbose, cffi_debug, cffi_libraries, visualise)\u001b[0m\n\u001b[1;32m    379\u001b[0m libraries \u001b[38;5;241m=\u001b[39m _libraries \u001b[38;5;241m+\u001b[39m cffi_libraries \u001b[38;5;28;01mif\u001b[39;00m cffi_libraries \u001b[38;5;129;01mis\u001b[39;00m \u001b[38;5;129;01mnot\u001b[39;00m \u001b[38;5;28;01mNone\u001b[39;00m \u001b[38;5;28;01melse\u001b[39;00m _libraries\n\u001b[1;32m    381\u001b[0m \u001b[38;5;66;03m# JIT uses module_name as prefix, which is needed to make names of all struct/function\u001b[39;00m\n\u001b[1;32m    382\u001b[0m \u001b[38;5;66;03m# unique across modules\u001b[39;00m\n\u001b[0;32m--> 383\u001b[0m _, code_body \u001b[38;5;241m=\u001b[39m \u001b[43mffcx\u001b[49m\u001b[38;5;241;43m.\u001b[39;49m\u001b[43mcompiler\u001b[49m\u001b[38;5;241;43m.\u001b[39;49m\u001b[43mcompile_ufl_objects\u001b[49m\u001b[43m(\u001b[49m\n\u001b[1;32m    384\u001b[0m \u001b[43m    \u001b[49m\u001b[43mufl_objects\u001b[49m\u001b[43m,\u001b[49m\u001b[43m \u001b[49m\u001b[43mprefix\u001b[49m\u001b[38;5;241;43m=\u001b[39;49m\u001b[43mmodule_name\u001b[49m\u001b[43m,\u001b[49m\u001b[43m \u001b[49m\u001b[43moptions\u001b[49m\u001b[38;5;241;43m=\u001b[39;49m\u001b[43moptions\u001b[49m\u001b[43m,\u001b[49m\u001b[43m \u001b[49m\u001b[43mvisualise\u001b[49m\u001b[38;5;241;43m=\u001b[39;49m\u001b[43mvisualise\u001b[49m\n\u001b[1;32m    385\u001b[0m \u001b[43m\u001b[49m\u001b[43m)\u001b[49m\n\u001b[1;32m    387\u001b[0m ffibuilder \u001b[38;5;241m=\u001b[39m cffi\u001b[38;5;241m.\u001b[39mFFI()\n\u001b[1;32m    389\u001b[0m ffibuilder\u001b[38;5;241m.\u001b[39mset_source(\n\u001b[1;32m    390\u001b[0m     module_name,\n\u001b[1;32m    391\u001b[0m     code_body,\n\u001b[0;32m   (...)\u001b[0m\n\u001b[1;32m    394\u001b[0m     libraries\u001b[38;5;241m=\u001b[39mlibraries,\n\u001b[1;32m    395\u001b[0m )\n",
      "File \u001b[0;32m/usr/local/lib/python3.10/dist-packages/ffcx/compiler.py:108\u001b[0m, in \u001b[0;36mcompile_ufl_objects\u001b[0;34m(ufl_objects, options, object_names, prefix, visualise)\u001b[0m\n\u001b[1;32m    106\u001b[0m \u001b[38;5;66;03m# Stage 1: analysis\u001b[39;00m\n\u001b[1;32m    107\u001b[0m cpu_time \u001b[38;5;241m=\u001b[39m time()\n\u001b[0;32m--> 108\u001b[0m analysis \u001b[38;5;241m=\u001b[39m \u001b[43manalyze_ufl_objects\u001b[49m\u001b[43m(\u001b[49m\u001b[43mufl_objects\u001b[49m\u001b[43m,\u001b[49m\u001b[43m \u001b[49m\u001b[43moptions\u001b[49m\u001b[43m[\u001b[49m\u001b[38;5;124;43m\"\u001b[39;49m\u001b[38;5;124;43mscalar_type\u001b[39;49m\u001b[38;5;124;43m\"\u001b[39;49m\u001b[43m]\u001b[49m\u001b[43m)\u001b[49m  \u001b[38;5;66;03m# type: ignore\u001b[39;00m\n\u001b[1;32m    109\u001b[0m _print_timing(\u001b[38;5;241m1\u001b[39m, time() \u001b[38;5;241m-\u001b[39m cpu_time)\n\u001b[1;32m    111\u001b[0m \u001b[38;5;66;03m# Stage 2: intermediate representation\u001b[39;00m\n",
      "File \u001b[0;32m/usr/local/lib/python3.10/dist-packages/ffcx/analysis.py:94\u001b[0m, in \u001b[0;36manalyze_ufl_objects\u001b[0;34m(ufl_objects, scalar_type)\u001b[0m\n\u001b[1;32m     91\u001b[0m     \u001b[38;5;28;01melse\u001b[39;00m:\n\u001b[1;32m     92\u001b[0m         \u001b[38;5;28;01mraise\u001b[39;00m \u001b[38;5;167;01mTypeError\u001b[39;00m(\u001b[38;5;124m\"\u001b[39m\u001b[38;5;124mUFL objects not recognised.\u001b[39m\u001b[38;5;124m\"\u001b[39m)\n\u001b[0;32m---> 94\u001b[0m form_data \u001b[38;5;241m=\u001b[39m \u001b[38;5;28;43mtuple\u001b[39;49m\u001b[43m(\u001b[49m\u001b[43m_analyze_form\u001b[49m\u001b[43m(\u001b[49m\u001b[43mform\u001b[49m\u001b[43m,\u001b[49m\u001b[43m \u001b[49m\u001b[43mscalar_type\u001b[49m\u001b[43m)\u001b[49m\u001b[43m \u001b[49m\u001b[38;5;28;43;01mfor\u001b[39;49;00m\u001b[43m \u001b[49m\u001b[43mform\u001b[49m\u001b[43m \u001b[49m\u001b[38;5;129;43;01min\u001b[39;49;00m\u001b[43m \u001b[49m\u001b[43mforms\u001b[49m\u001b[43m)\u001b[49m\n\u001b[1;32m     95\u001b[0m \u001b[38;5;28;01mfor\u001b[39;00m data \u001b[38;5;129;01min\u001b[39;00m form_data:\n\u001b[1;32m     96\u001b[0m     elements \u001b[38;5;241m+\u001b[39m\u001b[38;5;241m=\u001b[39m data\u001b[38;5;241m.\u001b[39munique_sub_elements\n",
      "File \u001b[0;32m/usr/local/lib/python3.10/dist-packages/ffcx/analysis.py:94\u001b[0m, in \u001b[0;36m<genexpr>\u001b[0;34m(.0)\u001b[0m\n\u001b[1;32m     91\u001b[0m     \u001b[38;5;28;01melse\u001b[39;00m:\n\u001b[1;32m     92\u001b[0m         \u001b[38;5;28;01mraise\u001b[39;00m \u001b[38;5;167;01mTypeError\u001b[39;00m(\u001b[38;5;124m\"\u001b[39m\u001b[38;5;124mUFL objects not recognised.\u001b[39m\u001b[38;5;124m\"\u001b[39m)\n\u001b[0;32m---> 94\u001b[0m form_data \u001b[38;5;241m=\u001b[39m \u001b[38;5;28mtuple\u001b[39m(\u001b[43m_analyze_form\u001b[49m\u001b[43m(\u001b[49m\u001b[43mform\u001b[49m\u001b[43m,\u001b[49m\u001b[43m \u001b[49m\u001b[43mscalar_type\u001b[49m\u001b[43m)\u001b[49m \u001b[38;5;28;01mfor\u001b[39;00m form \u001b[38;5;129;01min\u001b[39;00m forms)\n\u001b[1;32m     95\u001b[0m \u001b[38;5;28;01mfor\u001b[39;00m data \u001b[38;5;129;01min\u001b[39;00m form_data:\n\u001b[1;32m     96\u001b[0m     elements \u001b[38;5;241m+\u001b[39m\u001b[38;5;241m=\u001b[39m data\u001b[38;5;241m.\u001b[39munique_sub_elements\n",
      "File \u001b[0;32m/usr/local/lib/python3.10/dist-packages/ffcx/analysis.py:180\u001b[0m, in \u001b[0;36m_analyze_form\u001b[0;34m(form, scalar_type)\u001b[0m\n\u001b[1;32m    177\u001b[0m complex_mode \u001b[38;5;241m=\u001b[39m np\u001b[38;5;241m.\u001b[39missubdtype(scalar_type, np\u001b[38;5;241m.\u001b[39mcomplexfloating)\n\u001b[1;32m    179\u001b[0m \u001b[38;5;66;03m# Compute form metadata\u001b[39;00m\n\u001b[0;32m--> 180\u001b[0m form_data \u001b[38;5;241m=\u001b[39m \u001b[43mufl\u001b[49m\u001b[38;5;241;43m.\u001b[39;49m\u001b[43malgorithms\u001b[49m\u001b[38;5;241;43m.\u001b[39;49m\u001b[43mcompute_form_data\u001b[49m\u001b[43m(\u001b[49m\n\u001b[1;32m    181\u001b[0m \u001b[43m    \u001b[49m\u001b[43mform\u001b[49m\u001b[43m,\u001b[49m\n\u001b[1;32m    182\u001b[0m \u001b[43m    \u001b[49m\u001b[43mdo_apply_function_pullbacks\u001b[49m\u001b[38;5;241;43m=\u001b[39;49m\u001b[38;5;28;43;01mTrue\u001b[39;49;00m\u001b[43m,\u001b[49m\n\u001b[1;32m    183\u001b[0m \u001b[43m    \u001b[49m\u001b[43mdo_apply_integral_scaling\u001b[49m\u001b[38;5;241;43m=\u001b[39;49m\u001b[38;5;28;43;01mTrue\u001b[39;49;00m\u001b[43m,\u001b[49m\n\u001b[1;32m    184\u001b[0m \u001b[43m    \u001b[49m\u001b[43mdo_apply_geometry_lowering\u001b[49m\u001b[38;5;241;43m=\u001b[39;49m\u001b[38;5;28;43;01mTrue\u001b[39;49;00m\u001b[43m,\u001b[49m\n\u001b[1;32m    185\u001b[0m \u001b[43m    \u001b[49m\u001b[43mpreserve_geometry_types\u001b[49m\u001b[38;5;241;43m=\u001b[39;49m\u001b[43m(\u001b[49m\u001b[43mufl\u001b[49m\u001b[38;5;241;43m.\u001b[39;49m\u001b[43mclasses\u001b[49m\u001b[38;5;241;43m.\u001b[39;49m\u001b[43mJacobian\u001b[49m\u001b[43m,\u001b[49m\u001b[43m)\u001b[49m\u001b[43m,\u001b[49m\n\u001b[1;32m    186\u001b[0m \u001b[43m    \u001b[49m\u001b[43mdo_apply_restrictions\u001b[49m\u001b[38;5;241;43m=\u001b[39;49m\u001b[38;5;28;43;01mTrue\u001b[39;49;00m\u001b[43m,\u001b[49m\n\u001b[1;32m    187\u001b[0m \u001b[43m    \u001b[49m\u001b[43mdo_append_everywhere_integrals\u001b[49m\u001b[38;5;241;43m=\u001b[39;49m\u001b[38;5;28;43;01mFalse\u001b[39;49;00m\u001b[43m,\u001b[49m\u001b[43m  \u001b[49m\u001b[38;5;66;43;03m# do not add dx integrals to dx(i) in UFL\u001b[39;49;00m\n\u001b[1;32m    188\u001b[0m \u001b[43m    \u001b[49m\u001b[43mcomplex_mode\u001b[49m\u001b[38;5;241;43m=\u001b[39;49m\u001b[43mcomplex_mode\u001b[49m\u001b[43m,\u001b[49m\n\u001b[1;32m    189\u001b[0m \u001b[43m\u001b[49m\u001b[43m)\u001b[49m\n\u001b[1;32m    191\u001b[0m \u001b[38;5;66;03m# Determine unique quadrature degree and quadrature scheme\u001b[39;00m\n\u001b[1;32m    192\u001b[0m \u001b[38;5;66;03m# per each integral data\u001b[39;00m\n\u001b[1;32m    193\u001b[0m \u001b[38;5;28;01mfor\u001b[39;00m \u001b[38;5;28mid\u001b[39m, integral_data \u001b[38;5;129;01min\u001b[39;00m \u001b[38;5;28menumerate\u001b[39m(form_data\u001b[38;5;241m.\u001b[39mintegral_data):\n\u001b[1;32m    194\u001b[0m     \u001b[38;5;66;03m# Iterate through groups of integral data. There is one integral\u001b[39;00m\n\u001b[1;32m    195\u001b[0m     \u001b[38;5;66;03m# data for all integrals with same domain, itype, subdomain_id\u001b[39;00m\n\u001b[0;32m   (...)\u001b[0m\n\u001b[1;32m    199\u001b[0m     \u001b[38;5;66;03m# all integrals in this integral data group, i.e. must be the\u001b[39;00m\n\u001b[1;32m    200\u001b[0m     \u001b[38;5;66;03m# same for for the same (domain, itype, subdomain_id)\u001b[39;00m\n",
      "File \u001b[0;32m/usr/local/lib/python3.10/dist-packages/ufl/algorithms/compute_form_data.py:427\u001b[0m, in \u001b[0;36mcompute_form_data\u001b[0;34m(form, do_apply_function_pullbacks, do_apply_integral_scaling, do_apply_geometry_lowering, preserve_geometry_types, do_apply_default_restrictions, do_apply_restrictions, do_estimate_degrees, do_append_everywhere_integrals, complex_mode)\u001b[0m\n\u001b[1;32m    424\u001b[0m preprocessed_form \u001b[38;5;241m=\u001b[39m reconstruct_form_from_integral_data(\u001b[38;5;28mself\u001b[39m\u001b[38;5;241m.\u001b[39mintegral_data)\n\u001b[1;32m    426\u001b[0m \u001b[38;5;66;03m# TODO: Test how fast this is\u001b[39;00m\n\u001b[0;32m--> 427\u001b[0m \u001b[43mcheck_form_arity\u001b[49m\u001b[43m(\u001b[49m\u001b[43mpreprocessed_form\u001b[49m\u001b[43m,\u001b[49m\u001b[43m \u001b[49m\u001b[38;5;28;43mself\u001b[39;49m\u001b[38;5;241;43m.\u001b[39;49m\u001b[43moriginal_form\u001b[49m\u001b[38;5;241;43m.\u001b[39;49m\u001b[43marguments\u001b[49m\u001b[43m(\u001b[49m\u001b[43m)\u001b[49m\u001b[43m,\u001b[49m\u001b[43m \u001b[49m\u001b[43mcomplex_mode\u001b[49m\u001b[43m)\u001b[49m\n\u001b[1;32m    429\u001b[0m \u001b[38;5;66;03m# TODO: This member is used by unit tests, change the tests to\u001b[39;00m\n\u001b[1;32m    430\u001b[0m \u001b[38;5;66;03m# remove this!\u001b[39;00m\n\u001b[1;32m    431\u001b[0m \u001b[38;5;28mself\u001b[39m\u001b[38;5;241m.\u001b[39mpreprocessed_form \u001b[38;5;241m=\u001b[39m preprocessed_form\n",
      "File \u001b[0;32m/usr/local/lib/python3.10/dist-packages/ufl/algorithms/check_arities.py:211\u001b[0m, in \u001b[0;36mcheck_form_arity\u001b[0;34m(form, arguments, complex_mode)\u001b[0m\n\u001b[1;32m    209\u001b[0m \u001b[38;5;250m\u001b[39m\u001b[38;5;124;03m\"\"\"Check the arity of a form.\"\"\"\u001b[39;00m\n\u001b[1;32m    210\u001b[0m \u001b[38;5;28;01mfor\u001b[39;00m itg \u001b[38;5;129;01min\u001b[39;00m form\u001b[38;5;241m.\u001b[39mintegrals():\n\u001b[0;32m--> 211\u001b[0m     \u001b[43mcheck_integrand_arity\u001b[49m\u001b[43m(\u001b[49m\u001b[43mitg\u001b[49m\u001b[38;5;241;43m.\u001b[39;49m\u001b[43mintegrand\u001b[49m\u001b[43m(\u001b[49m\u001b[43m)\u001b[49m\u001b[43m,\u001b[49m\u001b[43m \u001b[49m\u001b[43marguments\u001b[49m\u001b[43m,\u001b[49m\u001b[43m \u001b[49m\u001b[43mcomplex_mode\u001b[49m\u001b[43m)\u001b[49m\n",
      "File \u001b[0;32m/usr/local/lib/python3.10/dist-packages/ufl/algorithms/check_arities.py:192\u001b[0m, in \u001b[0;36mcheck_integrand_arity\u001b[0;34m(expr, arguments, complex_mode)\u001b[0m\n\u001b[1;32m    190\u001b[0m arguments \u001b[38;5;241m=\u001b[39m \u001b[38;5;28mtuple\u001b[39m(\u001b[38;5;28msorted\u001b[39m(\u001b[38;5;28mset\u001b[39m(arguments), key\u001b[38;5;241m=\u001b[39m\u001b[38;5;28;01mlambda\u001b[39;00m x: (x\u001b[38;5;241m.\u001b[39mnumber(), x\u001b[38;5;241m.\u001b[39mpart())))\n\u001b[1;32m    191\u001b[0m rules \u001b[38;5;241m=\u001b[39m ArityChecker(arguments)\n\u001b[0;32m--> 192\u001b[0m arg_tuples \u001b[38;5;241m=\u001b[39m \u001b[43mmap_expr_dag\u001b[49m\u001b[43m(\u001b[49m\u001b[43mrules\u001b[49m\u001b[43m,\u001b[49m\u001b[43m \u001b[49m\u001b[43mexpr\u001b[49m\u001b[43m,\u001b[49m\u001b[43m \u001b[49m\u001b[43mcompress\u001b[49m\u001b[38;5;241;43m=\u001b[39;49m\u001b[38;5;28;43;01mFalse\u001b[39;49;00m\u001b[43m)\u001b[49m\n\u001b[1;32m    193\u001b[0m args \u001b[38;5;241m=\u001b[39m \u001b[38;5;28mtuple\u001b[39m(a[\u001b[38;5;241m0\u001b[39m] \u001b[38;5;28;01mfor\u001b[39;00m a \u001b[38;5;129;01min\u001b[39;00m arg_tuples)\n\u001b[1;32m    194\u001b[0m \u001b[38;5;28;01mif\u001b[39;00m args \u001b[38;5;241m!=\u001b[39m arguments:\n",
      "File \u001b[0;32m/usr/local/lib/python3.10/dist-packages/ufl/corealg/map_dag.py:35\u001b[0m, in \u001b[0;36mmap_expr_dag\u001b[0;34m(function, expression, compress, vcache, rcache)\u001b[0m\n\u001b[1;32m     15\u001b[0m \u001b[38;5;28;01mdef\u001b[39;00m \u001b[38;5;21mmap_expr_dag\u001b[39m(function, expression, compress\u001b[38;5;241m=\u001b[39m\u001b[38;5;28;01mTrue\u001b[39;00m, vcache\u001b[38;5;241m=\u001b[39m\u001b[38;5;28;01mNone\u001b[39;00m, rcache\u001b[38;5;241m=\u001b[39m\u001b[38;5;28;01mNone\u001b[39;00m):\n\u001b[1;32m     16\u001b[0m \u001b[38;5;250m    \u001b[39m\u001b[38;5;124;03m\"\"\"Apply a function to each subexpression node in an expression DAG.\u001b[39;00m\n\u001b[1;32m     17\u001b[0m \n\u001b[1;32m     18\u001b[0m \u001b[38;5;124;03m    If the same function is called multiple times in a transformation\u001b[39;00m\n\u001b[0;32m   (...)\u001b[0m\n\u001b[1;32m     33\u001b[0m \u001b[38;5;124;03m        The result of the final function call\u001b[39;00m\n\u001b[1;32m     34\u001b[0m \u001b[38;5;124;03m    \"\"\"\u001b[39;00m\n\u001b[0;32m---> 35\u001b[0m     (result,) \u001b[38;5;241m=\u001b[39m \u001b[43mmap_expr_dags\u001b[49m\u001b[43m(\u001b[49m\n\u001b[1;32m     36\u001b[0m \u001b[43m        \u001b[49m\u001b[43mfunction\u001b[49m\u001b[43m,\u001b[49m\u001b[43m \u001b[49m\u001b[43m[\u001b[49m\u001b[43mexpression\u001b[49m\u001b[43m]\u001b[49m\u001b[43m,\u001b[49m\u001b[43m \u001b[49m\u001b[43mcompress\u001b[49m\u001b[38;5;241;43m=\u001b[39;49m\u001b[43mcompress\u001b[49m\u001b[43m,\u001b[49m\u001b[43m \u001b[49m\u001b[43mvcache\u001b[49m\u001b[38;5;241;43m=\u001b[39;49m\u001b[43mvcache\u001b[49m\u001b[43m,\u001b[49m\u001b[43m \u001b[49m\u001b[43mrcache\u001b[49m\u001b[38;5;241;43m=\u001b[39;49m\u001b[43mrcache\u001b[49m\n\u001b[1;32m     37\u001b[0m \u001b[43m    \u001b[49m\u001b[43m)\u001b[49m\n\u001b[1;32m     38\u001b[0m     \u001b[38;5;28;01mreturn\u001b[39;00m result\n",
      "File \u001b[0;32m/usr/local/lib/python3.10/dist-packages/ufl/corealg/map_dag.py:103\u001b[0m, in \u001b[0;36mmap_expr_dags\u001b[0;34m(function, expressions, compress, vcache, rcache)\u001b[0m\n\u001b[1;32m    101\u001b[0m     r \u001b[38;5;241m=\u001b[39m handlers[v\u001b[38;5;241m.\u001b[39m_ufl_typecode_](v)\n\u001b[1;32m    102\u001b[0m \u001b[38;5;28;01melse\u001b[39;00m:\n\u001b[0;32m--> 103\u001b[0m     r \u001b[38;5;241m=\u001b[39m \u001b[43mhandlers\u001b[49m\u001b[43m[\u001b[49m\u001b[43mv\u001b[49m\u001b[38;5;241;43m.\u001b[39;49m\u001b[43m_ufl_typecode_\u001b[49m\u001b[43m]\u001b[49m\u001b[43m(\u001b[49m\u001b[43mv\u001b[49m\u001b[43m,\u001b[49m\u001b[43m \u001b[49m\u001b[38;5;241;43m*\u001b[39;49m\u001b[43m[\u001b[49m\u001b[43mvcache\u001b[49m\u001b[43m[\u001b[49m\u001b[43mu\u001b[49m\u001b[43m]\u001b[49m\u001b[43m \u001b[49m\u001b[38;5;28;43;01mfor\u001b[39;49;00m\u001b[43m \u001b[49m\u001b[43mu\u001b[49m\u001b[43m \u001b[49m\u001b[38;5;129;43;01min\u001b[39;49;00m\u001b[43m \u001b[49m\u001b[43mv\u001b[49m\u001b[38;5;241;43m.\u001b[39;49m\u001b[43mufl_operands\u001b[49m\u001b[43m]\u001b[49m\u001b[43m)\u001b[49m\n\u001b[1;32m    105\u001b[0m \u001b[38;5;66;03m# Optionally check if r is in rcache, a memory optimization\u001b[39;00m\n\u001b[1;32m    106\u001b[0m \u001b[38;5;66;03m# to be able to keep representation of result compact\u001b[39;00m\n\u001b[1;32m    107\u001b[0m \u001b[38;5;28;01mif\u001b[39;00m compress:\n",
      "File \u001b[0;32m/usr/local/lib/python3.10/dist-packages/ufl/algorithms/check_arities.py:57\u001b[0m, in \u001b[0;36mArityChecker.sum\u001b[0;34m(self, o, a, b)\u001b[0m\n\u001b[1;32m     55\u001b[0m \u001b[38;5;250m\u001b[39m\u001b[38;5;124;03m\"\"\"Apply to sum.\"\"\"\u001b[39;00m\n\u001b[1;32m     56\u001b[0m \u001b[38;5;28;01mif\u001b[39;00m a \u001b[38;5;241m!=\u001b[39m b:\n\u001b[0;32m---> 57\u001b[0m     \u001b[38;5;28;01mraise\u001b[39;00m ArityMismatch(\n\u001b[1;32m     58\u001b[0m         \u001b[38;5;124mf\u001b[39m\u001b[38;5;124m\"\u001b[39m\u001b[38;5;124mAdding expressions with non-matching form arguments \u001b[39m\u001b[38;5;132;01m{\u001b[39;00m_afmt(a)\u001b[38;5;132;01m}\u001b[39;00m\u001b[38;5;124m vs \u001b[39m\u001b[38;5;132;01m{\u001b[39;00m_afmt(b)\u001b[38;5;132;01m}\u001b[39;00m\u001b[38;5;124m.\u001b[39m\u001b[38;5;124m\"\u001b[39m\n\u001b[1;32m     59\u001b[0m     )\n\u001b[1;32m     60\u001b[0m \u001b[38;5;28;01mreturn\u001b[39;00m a\n",
      "\u001b[0;31mArityMismatch\u001b[0m: Adding expressions with non-matching form arguments ('conj(v_0)', 'v_1') vs ('v_0', 'v_1')."
     ]
    }
   ],
   "source": [
    "f = Constant(mesh, PETSc.ScalarType((0, 0)))\n",
    "F1 = rho / k * dot(u - u_n, v) * dx\n",
    "F1 += inner(dot(1.5 * u_n - 0.5 * u_n1, 0.5 * nabla_grad(u + u_n)), v) * dx\n",
    "F1 += 0.5 * mu * inner(grad(u + u_n), grad(v)) * dx - dot(p_, div(v)) * dx\n",
    "F1 += dot(f, v) * dx\n",
    "a1 = form(lhs(F1))\n",
    "L1 = form(rhs(F1))\n",
    "A1 = create_matrix(a1)\n",
    "b1 = create_vector(L1)"
   ]
  },
  {
   "cell_type": "code",
   "execution_count": null,
   "id": "5f07ba2f-0d13-4dfc-80dc-4e1f560f7bd7",
   "metadata": {},
   "outputs": [],
   "source": []
  }
 ],
 "metadata": {
  "kernelspec": {
   "display_name": "Python 3 (DOLFINx complex)",
   "language": "python",
   "name": "python3-complex"
  },
  "language_info": {
   "codemirror_mode": {
    "name": "ipython",
    "version": 3
   },
   "file_extension": ".py",
   "mimetype": "text/x-python",
   "name": "python",
   "nbconvert_exporter": "python",
   "pygments_lexer": "ipython3",
   "version": "3.10.12"
  }
 },
 "nbformat": 4,
 "nbformat_minor": 5
}
