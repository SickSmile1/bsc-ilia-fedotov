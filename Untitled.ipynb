{
 "cells": [
  {
   "cell_type": "code",
   "execution_count": 16,
   "id": "290397da-94ef-4cf7-a76a-db0f9e61c6b0",
   "metadata": {},
   "outputs": [],
   "source": [
    "from mpi4py import MPI\n",
    "from petsc4py import PETSc\n",
    "import numpy as np\n",
    "import pyvista\n",
    "\n",
    "from dolfinx.fem import Constant, Function, functionspace, assemble_scalar, dirichletbc, form, locate_dofs_geometrical\n",
    "from dolfinx.fem.petsc import assemble_matrix, assemble_vector, apply_lifting, create_vector, set_bc\n",
    "from dolfinx.io import VTXWriter\n",
    "from dolfinx.mesh import create_unit_square,create_rectangle,CellType\n",
    "from dolfinx.plot import vtk_mesh\n",
    "from basix.ufl import element\n",
    "from ufl import (FacetNormal, Identity, TestFunction, TrialFunction,Measure,\n",
    "                 div, dot, ds, dx, inner, lhs, nabla_grad, rhs, sym)\n",
    "from dolfinx import geometry\n",
    "mesh = create_rectangle(MPI.COMM_WORLD, [[.0,0.],[22,4.1]], [220,41],CellType.triangle)\n",
    "t = 0\n",
    "T = 6\n",
    "num_steps = 500\n",
    "dt = T / num_steps"
   ]
  },
  {
   "cell_type": "code",
   "execution_count": 2,
   "id": "2492acb1-7a1d-469d-bb94-274fe1af55e9",
   "metadata": {},
   "outputs": [],
   "source": [
    "v_cg2 = element(\"Lagrange\", mesh.topology.cell_name(), 2, shape=(mesh.geometry.dim, ))\n",
    "s_cg1 = element(\"Lagrange\", mesh.topology.cell_name(), 1)\n",
    "V = functionspace(mesh, v_cg2)\n",
    "Q = functionspace(mesh, s_cg1)"
   ]
  },
  {
   "cell_type": "code",
   "execution_count": 3,
   "id": "ee40440f-4d1d-4490-a852-c3d098bd5ee2",
   "metadata": {},
   "outputs": [],
   "source": [
    "u = TrialFunction(V)\n",
    "v = TestFunction(V)\n",
    "p = TrialFunction(Q)\n",
    "q = TestFunction(Q)"
   ]
  },
  {
   "cell_type": "code",
   "execution_count": 4,
   "id": "5896a2a2-2fc6-4185-93f3-1fd34ccc2db9",
   "metadata": {},
   "outputs": [],
   "source": [
    "def walls(x):\n",
    "    return np.logical_or(np.isclose(x[1], 0), np.isclose(x[1], 1))\n",
    "\n",
    "wall_dofs = locate_dofs_geometrical(V, walls)\n",
    "u_noslip = np.array((0,) * mesh.geometry.dim, dtype=PETSc.ScalarType)\n",
    "bc_noslip = dirichletbc(u_noslip, wall_dofs, V)\n",
    "\n",
    "def inflow(x):\n",
    "    return np.isclose(x[0], 0)\n",
    "\n",
    "inflow_dofs = locate_dofs_geometrical(Q, inflow)\n",
    "bc_inflow = dirichletbc(PETSc.ScalarType(8), inflow_dofs, Q)\n",
    "\n",
    "def outflow(x):\n",
    "    return np.isclose(x[0], 220)\n",
    "\n",
    "outflow_dofs = locate_dofs_geometrical(Q, outflow)\n",
    "bc_outflow = dirichletbc(PETSc.ScalarType(0), outflow_dofs, Q)\n",
    "bcu = [bc_noslip]\n",
    "bcp = [bc_inflow, bc_outflow]"
   ]
  },
  {
   "cell_type": "code",
   "execution_count": 5,
   "id": "f0b56fde-ee26-4a71-9188-446c5bc1e2f3",
   "metadata": {},
   "outputs": [],
   "source": [
    "u_n = Function(V)\n",
    "u_n.name = \"u_n\"\n",
    "U = 0.5 * (u_n + u)\n",
    "n = FacetNormal(mesh)\n",
    "f = Constant(mesh, PETSc.ScalarType((0, 0)))\n",
    "k = Constant(mesh, PETSc.ScalarType(dt))\n",
    "mu = Constant(mesh, PETSc.ScalarType(1))\n",
    "rho = Constant(mesh, PETSc.ScalarType(1))"
   ]
  },
  {
   "cell_type": "code",
   "execution_count": 6,
   "id": "8245bfd1-3be2-4a18-a6fa-5dfefdaf1657",
   "metadata": {},
   "outputs": [],
   "source": [
    "# Define strain-rate tensor\n",
    "def epsilon(u):\n",
    "    return sym(nabla_grad(u))\n",
    "\n",
    "# Define stress tensor\n",
    "\n",
    "\n",
    "def sigma(u, p):\n",
    "    return 2 * mu * epsilon(u) - p * Identity(len(u))\n",
    "\n",
    "\n",
    "# Define the variational problem for the first step\n",
    "p_n = Function(Q)\n",
    "p_n.name = \"p_n\"\n",
    "F1 = rho * dot((u - u_n) / k, v) * dx\n",
    "F1 += rho * dot(dot(u_n, nabla_grad(u_n)), v) * dx\n",
    "F1 += inner(sigma(U, p_n), epsilon(v)) * dx\n",
    "F1 += dot(p_n * n, v) * ds - dot(mu * nabla_grad(U) * n, v) * ds\n",
    "F1 -= dot(f, v) * dx\n",
    "a1 = form(lhs(F1))\n",
    "L1 = form(rhs(F1))\n"
   ]
  },
  {
   "cell_type": "code",
   "execution_count": 7,
   "id": "76397c2e-0717-4d1d-b17f-6e836e1031d3",
   "metadata": {},
   "outputs": [],
   "source": [
    "A1 = assemble_matrix(a1, bcs=bcu)\n",
    "A1.assemble()\n",
    "b1 = create_vector(L1)\n",
    "\n",
    "# Define variational problem for step 2\n",
    "u_ = Function(V)\n",
    "a2 = form(dot(nabla_grad(p), nabla_grad(q)) * dx)\n",
    "L2 = form(dot(nabla_grad(p_n), nabla_grad(q)) * dx - (rho / k) * div(u_) * q * dx)\n",
    "A2 = assemble_matrix(a2, bcs=bcp)\n",
    "A2.assemble()\n",
    "b2 = create_vector(L2)\n",
    "\n",
    "# Define variational problem for step 3\n",
    "p_ = Function(Q)\n",
    "a3 = form(rho * dot(u, v) * dx)\n",
    "L3 = form(rho * dot(u_, v) * dx - k * dot(nabla_grad(p_ - p_n), v) * dx)\n",
    "A3 = assemble_matrix(a3)\n",
    "A3.assemble()\n",
    "b3 = create_vector(L3)\n",
    "\n",
    "# Solver for step 1\n",
    "solver1 = PETSc.KSP().create(mesh.comm)\n",
    "solver1.setOperators(A1)\n",
    "solver1.setType(PETSc.KSP.Type.BCGS)\n",
    "pc1 = solver1.getPC()\n",
    "pc1.setType(PETSc.PC.Type.HYPRE)\n",
    "pc1.setHYPREType(\"boomeramg\")\n",
    "\n",
    "# Solver for step 2\n",
    "solver2 = PETSc.KSP().create(mesh.comm)\n",
    "solver2.setOperators(A2)\n",
    "solver2.setType(PETSc.KSP.Type.BCGS)\n",
    "pc2 = solver2.getPC()\n",
    "pc2.setType(PETSc.PC.Type.HYPRE)\n",
    "pc2.setHYPREType(\"boomeramg\")\n",
    "\n",
    "# Solver for step 3\n",
    "solver3 = PETSc.KSP().create(mesh.comm)\n",
    "solver3.setOperators(A3)\n",
    "solver3.setType(PETSc.KSP.Type.CG)\n",
    "pc3 = solver3.getPC()\n",
    "pc3.setType(PETSc.PC.Type.SOR)"
   ]
  },
  {
   "cell_type": "code",
   "execution_count": 8,
   "id": "9bcc58f0-6637-4860-a512-3f7c7207119b",
   "metadata": {},
   "outputs": [],
   "source": [
    "from pathlib import Path\n",
    "folder = Path(\"results\")\n",
    "folder.mkdir(exist_ok=True, parents=True)\n",
    "vtx_u = VTXWriter(mesh.comm, folder / \"poiseuille_u.bp\", u_n, engine=\"BP4\")\n",
    "vtx_p = VTXWriter(mesh.comm, folder / \"poiseuille_p.bp\", p_n, engine=\"BP4\")\n",
    "vtx_u.write(t)\n",
    "vtx_p.write(t)"
   ]
  },
  {
   "cell_type": "code",
   "execution_count": 9,
   "id": "b0f01a68-5a60-46f9-b99d-a511676da238",
   "metadata": {},
   "outputs": [],
   "source": [
    "def u_exact(x):\n",
    "    values = np.zeros((2, x.shape[1]), dtype=PETSc.ScalarType)\n",
    "    values[0] = 4 * x[1] * (1.0 - x[1])\n",
    "    return values\n",
    "\n",
    "\n",
    "u_ex = Function(V)\n",
    "u_ex.interpolate(u_exact)\n",
    "\n",
    "L2_error = form(dot(u_ - u_ex, u_ - u_ex) * dx)"
   ]
  },
  {
   "cell_type": "code",
   "execution_count": 17,
   "id": "2e22f063-ca6a-4ca2-ba24-59ecb69dd973",
   "metadata": {},
   "outputs": [
    {
     "ename": "TypeError",
     "evalue": "BoundingBoxTree.__init__() takes 2 positional arguments but 3 were given",
     "output_type": "error",
     "traceback": [
      "\u001b[0;31m---------------------------------------------------------------------------\u001b[0m",
      "\u001b[0;31mTypeError\u001b[0m                                 Traceback (most recent call last)",
      "Cell \u001b[0;32mIn[17], line 52\u001b[0m\n\u001b[1;32m     49\u001b[0m points \u001b[38;5;241m=\u001b[39m np\u001b[38;5;241m.\u001b[39mcolumn_stack((np\u001b[38;5;241m.\u001b[39mfull_like(y_coords, x), y_coords))\n\u001b[1;32m     51\u001b[0m \u001b[38;5;66;03m# Create a mesh from the points\u001b[39;00m\n\u001b[0;32m---> 52\u001b[0m tree \u001b[38;5;241m=\u001b[39m \u001b[43mgeometry\u001b[49m\u001b[38;5;241;43m.\u001b[39;49m\u001b[43mBoundingBoxTree\u001b[49m\u001b[43m(\u001b[49m\u001b[43mmesh\u001b[49m\u001b[43m,\u001b[49m\u001b[43m \u001b[49m\u001b[43mmesh\u001b[49m\u001b[38;5;241;43m.\u001b[39;49m\u001b[43mgeometry\u001b[49m\u001b[38;5;241;43m.\u001b[39;49m\u001b[43mdim\u001b[49m\u001b[43m)\u001b[49m\n\u001b[1;32m     53\u001b[0m cell_candidates \u001b[38;5;241m=\u001b[39m geometry\u001b[38;5;241m.\u001b[39mcompute_collisions(tree, points)\n\u001b[1;32m     54\u001b[0m colliding_cells \u001b[38;5;241m=\u001b[39m geometry\u001b[38;5;241m.\u001b[39mcompute_colliding_cells(mesh, cell_candidates, points)\n",
      "\u001b[0;31mTypeError\u001b[0m: BoundingBoxTree.__init__() takes 2 positional arguments but 3 were given"
     ]
    }
   ],
   "source": [
    "x_start = mesh.geometry.x[:, 0].min()\n",
    "x_center = (mesh.geometry.x[:, 0].min() + mesh.geometry.x[:, 0].max()) / 2\n",
    "x_end = mesh.geometry.x[:, 0].max()\n",
    "\n",
    "profiles = {x_start: [], x_center: [], x_end: []}\n",
    "\n",
    "for i in range(num_steps):\n",
    "    # Update current time step\n",
    "    t += dt\n",
    "\n",
    "    # Step 1: Tentative veolcity step\n",
    "    with b1.localForm() as loc_1:\n",
    "        loc_1.set(0)\n",
    "    assemble_vector(b1, L1)\n",
    "    apply_lifting(b1, [a1], [bcu])\n",
    "    b1.ghostUpdate(addv=PETSc.InsertMode.ADD_VALUES, mode=PETSc.ScatterMode.REVERSE)\n",
    "    set_bc(b1, bcu)\n",
    "    solver1.solve(b1, u_.x.petsc_vec)\n",
    "    u_.x.scatter_forward()\n",
    "\n",
    "    # Step 2: Pressure corrrection step\n",
    "    with b2.localForm() as loc_2:\n",
    "        loc_2.set(0)\n",
    "    assemble_vector(b2, L2)\n",
    "    apply_lifting(b2, [a2], [bcp])\n",
    "    b2.ghostUpdate(addv=PETSc.InsertMode.ADD_VALUES, mode=PETSc.ScatterMode.REVERSE)\n",
    "    set_bc(b2, bcp)\n",
    "    solver2.solve(b2, p_.x.petsc_vec)\n",
    "    p_.x.scatter_forward()\n",
    "\n",
    "    # Step 3: Velocity correction step\n",
    "    with b3.localForm() as loc_3:\n",
    "        loc_3.set(0)\n",
    "    assemble_vector(b3, L3)\n",
    "    b3.ghostUpdate(addv=PETSc.InsertMode.ADD_VALUES, mode=PETSc.ScatterMode.REVERSE)\n",
    "    solver3.solve(b3, u_.x.petsc_vec)\n",
    "    u_.x.scatter_forward()\n",
    "    # Update variable with solution form this time step\n",
    "    u_n.x.array[:] = u_.x.array[:]\n",
    "    p_n.x.array[:] = p_.x.array[:]\n",
    "\n",
    "    # Write solutions to file\n",
    "    vtx_u.write(t)\n",
    "    vtx_p.write(t)\n",
    "    \n",
    "    for x in [x_start, x_center, x_end]:\n",
    "        # Create points for evaluation\n",
    "        y_coords = np.linspace(mesh.geometry.x[:, 1].min(), mesh.geometry.x[:, 1].max(), 100)\n",
    "        points = np.column_stack((np.full_like(y_coords, x), y_coords))\n",
    "        \n",
    "        # Create a mesh from the points\n",
    "        tree = geometry.BoundingBoxTree(mesh, mesh.geometry.dim)\n",
    "        cell_candidates = geometry.compute_collisions(tree, points)\n",
    "        colliding_cells = geometry.compute_colliding_cells(mesh, cell_candidates, points)\n",
    "        \n",
    "        # Create the interpolation\n",
    "        u_points = Function(V_points)\n",
    "        create_nonmatching_meshes_interpolation(u_points, u_, points, colliding_cells)\n",
    "        \n",
    "        # Extract values\n",
    "        u_values = u_points.x.array.reshape(-1, mesh.geometry.dim)\n",
    "        profiles[x].append((t, u_values))\n",
    "    \n",
    "    if (i % 20 == 0) or (i == num_steps - 1):\n",
    "        fig, (ax1, ax2, ax3) = plt.subplots(1, 3, figsize=(15, 5))\n",
    "        \n",
    "        for ax, (x, label) in zip([ax1, ax2, ax3], [(x_start, \"Start\"), (x_center, \"Center\"), (x_end, \"End\")]):\n",
    "            t, u_values = profiles[x][-1]  # Get the latest profile\n",
    "            ax.plot(u_values[:, 0], y_coords, label='u')\n",
    "            ax.plot(u_values[:, 1], y_coords, label='v')\n",
    "            ax.set_title(f\"{label} (x={x:.2f}, t={t:.2f})\")\n",
    "            ax.set_xlabel(\"Velocity\")\n",
    "            ax.set_ylabel(\"y\")\n",
    "            ax.legend()\n",
    "        \n",
    "        plt.tight_layout()\n",
    "        plt.savefig(f\"velocity_profiles_t{t:.2f}.png\")\n",
    "        plt.close()\n",
    "        plt.tight_layout()\n",
    "        plt.savefig(f\"velocity_profiles_t{t:.2f}.png\")\n",
    "        plt.close()\n",
    "    \n",
    "    # Compute error at current time-step\n",
    "    error_L2 = np.sqrt(mesh.comm.allreduce(assemble_scalar(L2_error), op=MPI.SUM))\n",
    "    error_max = mesh.comm.allreduce(np.max(u_.x.petsc_vec.array - u_ex.x.petsc_vec.array), op=MPI.MAX)\n",
    "    # Print error only every 20th step and at the last step\n",
    "    if (i % 20 == 0) or (i == num_steps - 1):\n",
    "        print(f\"Time {t:.2f}, L2-error {error_L2:.2e}, Max error {error_max:.2e}\")\n",
    "# Close xmdf file\n",
    "vtx_u.close()\n",
    "vtx_p.close()\n",
    "b1.destroy()\n",
    "b2.destroy()\n",
    "b3.destroy()\n",
    "solver1.destroy()\n",
    "solver2.destroy()\n",
    "solver3.destroy()"
   ]
  },
  {
   "cell_type": "code",
   "execution_count": 11,
   "id": "9cf965d0-6b75-487a-96ff-ef76e2b3b6d8",
   "metadata": {},
   "outputs": [
    {
     "ename": "ZeroDivisionError",
     "evalue": "float division by zero",
     "output_type": "error",
     "traceback": [
      "\u001b[0;31m---------------------------------------------------------------------------\u001b[0m",
      "\u001b[0;31mZeroDivisionError\u001b[0m                         Traceback (most recent call last)",
      "Cell \u001b[0;32mIn[11], line 29\u001b[0m\n\u001b[1;32m     26\u001b[0m mass_flow \u001b[38;5;241m=\u001b[39m assemble_scalar(form(u_sub \u001b[38;5;241m*\u001b[39m slice_condition \u001b[38;5;241m*\u001b[39m dx))\n\u001b[1;32m     28\u001b[0m \u001b[38;5;66;03m# Calculate average pressure at the current slice\u001b[39;00m\n\u001b[0;32m---> 29\u001b[0m pressure_avg \u001b[38;5;241m=\u001b[39m \u001b[43massemble_scalar\u001b[49m\u001b[43m(\u001b[49m\u001b[43mform\u001b[49m\u001b[43m(\u001b[49m\u001b[43mp\u001b[49m\u001b[43m \u001b[49m\u001b[38;5;241;43m*\u001b[39;49m\u001b[43m \u001b[49m\u001b[43mslice_condition\u001b[49m\u001b[43m \u001b[49m\u001b[38;5;241;43m*\u001b[39;49m\u001b[43m \u001b[49m\u001b[43mdx\u001b[49m\u001b[43m)\u001b[49m\u001b[43m)\u001b[49m\u001b[43m \u001b[49m\u001b[38;5;241;43m/\u001b[39;49m\u001b[43m \u001b[49m\u001b[43massemble_scalar\u001b[49m\u001b[43m(\u001b[49m\u001b[43mform\u001b[49m\u001b[43m(\u001b[49m\u001b[43mslice_condition\u001b[49m\u001b[43m \u001b[49m\u001b[38;5;241;43m*\u001b[39;49m\u001b[43m \u001b[49m\u001b[43mdx\u001b[49m\u001b[43m)\u001b[49m\u001b[43m)\u001b[49m\n\u001b[1;32m     31\u001b[0m \u001b[38;5;66;03m# Append the results to the lists\u001b[39;00m\n\u001b[1;32m     32\u001b[0m flow_results\u001b[38;5;241m.\u001b[39mappend((x_pos, mass_flow))\n",
      "\u001b[0;31mZeroDivisionError\u001b[0m: float division by zero"
     ]
    }
   ],
   "source": [
    "from ufl import SpatialCoordinate, conditional, ge, le\n",
    "# Get the minimum and maximum x-coordinates of the mesh\n",
    "x_min = 0.0\n",
    "x_max = mesh.geometry.x[:, 0].max()\n",
    "\n",
    "# Define the interval for calculations\n",
    "interval = 0.05\n",
    "\n",
    "# Create lists to store the results\n",
    "flow_results = []\n",
    "pressure_results = []\n",
    "\n",
    "# Extract the normal component of velocity (u_x in 2D)\n",
    "u_sub = u_n.sub(0)\n",
    "\n",
    "# Define measures and spatial coordinates\n",
    "dx = Measure(\"dx\", domain=mesh)\n",
    "x = SpatialCoordinate(mesh)\n",
    "\n",
    "# Loop through the x-coordinates at regular intervals\n",
    "for x_pos in np.arange(x_min+2*interval, x_max, interval):\n",
    "    # Define a slice at the current x-coordinate\n",
    "    slice_condition = conditional(ge(x[0], x_pos - 3.2e-2), 1.0, 0.0) * conditional(le(x[0], x_pos + 3.2e-2), 1.0, 0.0)\n",
    "    \n",
    "    # Calculate mass flow rate at the current slice\n",
    "    mass_flow = assemble_scalar(form(u_sub * slice_condition * dx))\n",
    "\n",
    "    # Calculate average pressure at the current slice\n",
    "    pressure_avg = assemble_scalar(form(p * slice_condition * dx)) / assemble_scalar(form(slice_condition * dx))\n",
    "    \n",
    "    # Append the results to the lists\n",
    "    flow_results.append((x_pos, mass_flow))\n",
    "    pressure_results.append((x_pos, pressure_avg))\n",
    "\n",
    "# Communicate results across MPI processes\n",
    "if MPI.COMM_WORLD.size > 1:\n",
    "    flow_results = MPI.COMM_WORLD.allgather(flow_results)\n",
    "    flow_results = [item for sublist in flow_results for item in sublist]\n",
    "    pressure_results = MPI.COMM_WORLD.allgather(pressure_results)\n",
    "    pressure_results = [item for sublist in pressure_results for item in sublist]\n",
    "\n",
    "# Sort results by x-coordinate\n",
    "flow_results.sort(key=lambda x: x[0])\n",
    "pressure_results.sort(key=lambda x: x[0])\n",
    "\n"
   ]
  },
  {
   "cell_type": "code",
   "execution_count": 1,
   "id": "2cc90a29-007d-4bb0-8ecf-55a89f8152e5",
   "metadata": {},
   "outputs": [
    {
     "name": "stdout",
     "output_type": "stream",
     "text": [
      "Starting 4 engines with <class 'ipyparallel.cluster.launcher.MPIEngineSetLauncher'>\n"
     ]
    },
    {
     "data": {
      "application/vnd.jupyter.widget-view+json": {
       "model_id": "838c91dd1e68442c9da2f917bdb4f442",
       "version_major": 2,
       "version_minor": 0
      },
      "text/plain": [
       "  0%|          | 0/4 [00:00<?, ?engine/s]"
      ]
     },
     "metadata": {},
     "output_type": "display_data"
    },
    {
     "name": "stdout",
     "output_type": "stream",
     "text": [
      "Stopping engine(s): 1728294923\n",
      "engine set stopped 1728294923: {'exit_code': 0, 'pid': 1803, 'identifier': 'ipengine-1728294922-4oel-1728294923-1755'}\n",
      "Stopping controller\n",
      "Controller stopped: {'exit_code': 0, 'pid': 1772, 'identifier': 'ipcontroller-1728294922-4oel-1755'}\n"
     ]
    }
   ],
   "source": [
    "import ipyparallel as ipp\n",
    "def mpi_example():\n",
    "    comm = MPI.COMM_WORLD\n",
    "    return f\"Hello World from rank {comm.Get_rank()}. total ranks={comm.Get_size()}\"\n",
    "\n",
    "with ipp.Cluster(engines='mpi', n=4) as rc:\n",
    "    # get a broadcast_view on the cluster which is best\n",
    "    # suited for MPI style computation\n",
    "    view = rc.broadcast_view()\n",
    "    # run the mpi_example function on all engines in parallel\n",
    "    r = view.apply_sync(mpi_example)\n",
    "    # Retrieve and print t"
   ]
  },
  {
   "cell_type": "code",
   "execution_count": 32,
   "id": "2e42bb60-3027-4498-9dae-0a94d1d7bf72",
   "metadata": {},
   "outputs": [
    {
     "data": {
      "text/plain": [
       "20.88515151515151"
      ]
     },
     "execution_count": 32,
     "metadata": {},
     "output_type": "execute_result"
    }
   ],
   "source": [
    "# dQ = (0.41**2)\n",
    "u_sub = u_n.sub(0)\n",
    "dx = Measure(\"dx\", domain=mesh)\n",
    "mass_flow = assemble_scalar(form(u_sub * dx))\n",
    "rey = (-mass_flow)/(.001*.41)\n",
    "#print(rey)\n",
    "flow_res = []\n",
    "for i in flow_results:\n",
    "    flow_res.append(i[1]/.001)\n",
    "s = 2*(((.41)/2)**3)/(3*.001)*(8/2.2)\n",
    "s"
   ]
  },
  {
   "cell_type": "code",
   "execution_count": 17,
   "id": "7251d5b1-20a8-4c7c-bab9-56968e3a5320",
   "metadata": {},
   "outputs": [
    {
     "name": "stdout",
     "output_type": "stream",
     "text": [
      "12.635516666666662\n"
     ]
    },
    {
     "data": {
      "text/plain": [
       "[(0.1, -8.315727243321504e-10),\n",
       " (0.15000000000000002, -7.311076246682153e-10),\n",
       " (0.20000000000000004, -9.081214251864715e-10),\n",
       " (0.25000000000000006, -8.147961877093507e-10),\n",
       " (0.30000000000000004, -8.123876335857482e-10),\n",
       " (0.3500000000000001, -7.196074478458965e-10),\n",
       " (0.40000000000000013, -6.291757060628284e-10),\n",
       " (0.45000000000000007, -8.053383303439192e-10),\n",
       " (0.5000000000000001, -8.038774242164631e-10),\n",
       " (0.5500000000000002, -8.907031687762303e-10),\n",
       " (0.6000000000000002, -7.994937314476057e-10),\n",
       " (0.6500000000000001, -7.986546752803194e-10),\n",
       " (0.7000000000000002, -6.195311936670376e-10),\n",
       " (0.7500000000000002, -7.094697635695799e-10),\n",
       " (0.8000000000000002, -7.988220382871567e-10),\n",
       " (0.8500000000000002, -7.98819812636111e-10),\n",
       " (0.9000000000000002, -8.869387679438447e-10),\n",
       " (0.9500000000000003, -7.106365247352624e-10),\n",
       " (1.0000000000000004, -7.980794043805835e-10),\n",
       " (1.0500000000000003, -7.986284669261633e-10),\n",
       " (1.1000000000000005, -7.113028560127211e-10),\n",
       " (1.1500000000000004, -8.019473490977443e-10),\n",
       " (1.2000000000000004, -8.025814513896083e-10),\n",
       " (1.2500000000000004, -7.125026416046955e-10),\n",
       " (1.3000000000000005, -8.925332406639237e-10),\n",
       " (1.3500000000000005, -8.031157101803138e-10),\n",
       " (1.4000000000000006, -8.037474575066648e-10),\n",
       " (1.4500000000000006, -7.157908268323682e-10),\n",
       " (1.5000000000000004, -6.284420167304834e-10),\n",
       " (1.5500000000000005, -8.07198172649278e-10),\n",
       " (1.6000000000000005, -8.075340215411649e-10),\n",
       " (1.6500000000000006, -8.967540020002797e-10),\n",
       " (1.7000000000000006, -8.064420165685566e-10),\n",
       " (1.7500000000000007, -8.066422712497794e-10),\n",
       " (1.8000000000000007, -6.265063386131155e-10),\n",
       " (1.8500000000000008, -7.180194334426121e-10),\n",
       " (1.9000000000000008, -8.087543721906094e-10),\n",
       " (1.9500000000000006, -8.087505467829579e-10),\n",
       " (2.0000000000000004, -8.976958850380301e-10),\n",
       " (2.0500000000000007, -7.189388581343333e-10),\n",
       " (2.100000000000001, -8.069247734570903e-10),\n",
       " (2.150000000000001, -8.068639533015444e-10)]"
      ]
     },
     "execution_count": 17,
     "metadata": {},
     "output_type": "execute_result"
    }
   ],
   "source": [
    "mfr_a = rho.value*(2.2*.41**3)/(12*mu.value)\n",
    "print(mfr_a)\n",
    "flow_results"
   ]
  },
  {
   "cell_type": "code",
   "execution_count": 15,
   "id": "0c49359b-f3d5-4179-9589-74056c766c6b",
   "metadata": {},
   "outputs": [
    {
     "data": {
      "text/plain": [
       "-3.5049885845796046e-09"
      ]
     },
     "execution_count": 15,
     "metadata": {},
     "output_type": "execute_result"
    }
   ],
   "source": [
    "ux = u_n.sub(0)\n",
    "interval = 2.1e-2\n",
    "slice_condition = conditional(ge(x[0], 1.-interval), 1.0, 0.0)*\\\n",
    "            conditional(le(x[0], 1.+interval), 1.0, 0.0)\n",
    "# Calculate the mass flow rate\n",
    "mass_flow_rate = rho.value * assemble_scalar(form(ux*slice_condition * dx))\n",
    "mass_flow_rate"
   ]
  },
  {
   "cell_type": "code",
   "execution_count": 16,
   "id": "ea2ab0fe-2c10-45d7-89e1-17c4294507ea",
   "metadata": {},
   "outputs": [
    {
     "data": {
      "text/plain": [
       "[<matplotlib.lines.Line2D at 0x7faf573e49a0>,\n",
       " <matplotlib.lines.Line2D at 0x7faf573e49d0>]"
      ]
     },
     "execution_count": 16,
     "metadata": {},
     "output_type": "execute_result"
    },
    {
     "data": {
      "image/png": "[encoded data removed]",
      "text/plain": [
       "<Figure size 640x480 with 1 Axes>"
      ]
     },
     "metadata": {},
     "output_type": "display_data"
    }
   ],
   "source": [
    "import matplotlib.pyplot as plt\n",
    "plt.plot(pressure_results)"
   ]
  },
  {
   "cell_type": "code",
   "execution_count": 12,
   "id": "4fe8d7fc-97e3-41c2-95f1-e3f1236da1ed",
   "metadata": {},
   "outputs": [
    {
     "data": {
      "text/plain": [
       "Product(Coefficient(FunctionSpace(Mesh(blocked element (Basix element (P, triangle, 1, gll_warped, unset, False, float64, []), (2,)), 0), Basix element (P, triangle, 2, gll_warped, unset, False, float64, [])), 6), Product(Conditional(LE(Indexed(SpatialCoordinate(Mesh(blocked element (Basix element (P, triangle, 1, gll_warped, unset, False, float64, []), (2,)), 0)), MultiIndex((FixedIndex(0),))), FloatValue(1.021)), FloatValue(1.0), Zero((), (), ())), Conditional(GE(Indexed(SpatialCoordinate(Mesh(blocked element (Basix element (P, triangle, 1, gll_warped, unset, False, float64, []), (2,)), 0)), MultiIndex((FixedIndex(0),))), FloatValue(0.979)), FloatValue(1.0), Zero((), (), ()))))"
      ]
     },
     "execution_count": 12,
     "metadata": {},
     "output_type": "execute_result"
    }
   ],
   "source": [
    "ux = u_n.sub(0)\n",
    "interval = 2.1e-2\n",
    "slice_condition = conditional(ge(x[0], 1.-interval), 1.0, 0.0)*\\\n",
    "            conditional(le(x[0], 1.+interval), 1.0, 0.0)\n",
    "# Calculate the mass flow rate\n",
    "mass_flow_rate = rho.value * assemble_scalar(form(ux*slice_condition * dx))\n",
    "mass_flow_rate\n",
    "sat = (slice_condition * ux)\n",
    "sat"
   ]
  },
  {
   "cell_type": "code",
   "execution_count": 13,
   "id": "a67fac01-0a96-4ae1-afed-1d43bd0f5e45",
   "metadata": {},
   "outputs": [
    {
     "data": {
      "text/plain": [
       "5.475381780296752e-07"
      ]
     },
     "execution_count": 13,
     "metadata": {},
     "output_type": "execute_result"
    }
   ],
   "source": [
    "mass_flow_rate"
   ]
  },
  {
   "cell_type": "code",
   "execution_count": null,
   "id": "24f827c0-d125-46fc-b8ff-39953703cd02",
   "metadata": {},
   "outputs": [],
   "source": []
  }
 ],
 "metadata": {
  "kernelspec": {
   "display_name": "Python 3 (ipykernel)",
   "language": "python",
   "name": "python3"
  },
  "language_info": {
   "codemirror_mode": {
    "name": "ipython",
    "version": 3
   },
   "file_extension": ".py",
   "mimetype": "text/x-python",
   "name": "python",
   "nbconvert_exporter": "python",
   "pygments_lexer": "ipython3",
   "version": "3.10.12"
  }
 },
 "nbformat": 4,
 "nbformat_minor": 5
}
